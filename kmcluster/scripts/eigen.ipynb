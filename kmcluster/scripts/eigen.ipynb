{
 "cells": [
  {
   "cell_type": "code",
   "execution_count": 1,
   "metadata": {},
   "outputs": [
    {
     "name": "stderr",
     "output_type": "stream",
     "text": [
      "/home/santiagovargas/anaconda3/envs/allegro/lib/python3.9/site-packages/brisk/funcs.py:99: NumbaDeprecationWarning: \u001b[1mThe 'nopython' keyword argument was not supplied to the 'numba.jit' decorator. The implicit default value for this argument is currently False, but it will be changed to True in Numba 0.59.0. See https://numba.readthedocs.io/en/stable/reference/deprecation.html#deprecation-of-object-mode-fall-back-behaviour-when-using-jit for details.\u001b[0m\n",
      "  def dot(x, y):\n",
      "/home/santiagovargas/anaconda3/envs/allegro/lib/python3.9/site-packages/brisk/funcs.py:174: NumbaDeprecationWarning: \u001b[1mThe 'nopython' keyword argument was not supplied to the 'numba.jit' decorator. The implicit default value for this argument is currently False, but it will be changed to True in Numba 0.59.0. See https://numba.readthedocs.io/en/stable/reference/deprecation.html#deprecation-of-object-mode-fall-back-behaviour-when-using-jit for details.\u001b[0m\n",
      "  def interp(x, xp, fp):\n",
      "/home/santiagovargas/anaconda3/envs/allegro/lib/python3.9/site-packages/brisk/funcs.py:215: NumbaDeprecationWarning: \u001b[1mThe 'nopython' keyword argument was not supplied to the 'numba.jit' decorator. The implicit default value for this argument is currently False, but it will be changed to True in Numba 0.59.0. See https://numba.readthedocs.io/en/stable/reference/deprecation.html#deprecation-of-object-mode-fall-back-behaviour-when-using-jit for details.\u001b[0m\n",
      "  def argmax(a):\n",
      "/home/santiagovargas/anaconda3/envs/allegro/lib/python3.9/site-packages/brisk/funcs.py:237: NumbaDeprecationWarning: \u001b[1mThe 'nopython' keyword argument was not supplied to the 'numba.jit' decorator. The implicit default value for this argument is currently False, but it will be changed to True in Numba 0.59.0. See https://numba.readthedocs.io/en/stable/reference/deprecation.html#deprecation-of-object-mode-fall-back-behaviour-when-using-jit for details.\u001b[0m\n",
      "  def argmax_axis(a):\n",
      "/home/santiagovargas/anaconda3/envs/allegro/lib/python3.9/site-packages/brisk/funcs.py:330: NumbaDeprecationWarning: \u001b[1mThe 'nopython' keyword argument was not supplied to the 'numba.jit' decorator. The implicit default value for this argument is currently False, but it will be changed to True in Numba 0.59.0. See https://numba.readthedocs.io/en/stable/reference/deprecation.html#deprecation-of-object-mode-fall-back-behaviour-when-using-jit for details.\u001b[0m\n",
      "  def flatten_3d(data):\n",
      "/home/santiagovargas/anaconda3/envs/allegro/lib/python3.9/site-packages/brisk/funcs.py:348: NumbaDeprecationWarning: \u001b[1mThe 'nopython' keyword argument was not supplied to the 'numba.jit' decorator. The implicit default value for this argument is currently False, but it will be changed to True in Numba 0.59.0. See https://numba.readthedocs.io/en/stable/reference/deprecation.html#deprecation-of-object-mode-fall-back-behaviour-when-using-jit for details.\u001b[0m\n",
      "  def detrend(data, type_):\n",
      "/home/santiagovargas/anaconda3/envs/allegro/lib/python3.9/site-packages/brisk/funcs.py:373: NumbaDeprecationWarning: \u001b[1mThe 'nopython' keyword argument was not supplied to the 'numba.jit' decorator. The implicit default value for this argument is currently False, but it will be changed to True in Numba 0.59.0. See https://numba.readthedocs.io/en/stable/reference/deprecation.html#deprecation-of-object-mode-fall-back-behaviour-when-using-jit for details.\u001b[0m\n",
      "  def ols(x, y):\n",
      "/home/santiagovargas/anaconda3/envs/allegro/lib/python3.9/site-packages/brisk/funcs.py:396: NumbaDeprecationWarning: \u001b[1mThe 'nopython' keyword argument was not supplied to the 'numba.jit' decorator. The implicit default value for this argument is currently False, but it will be changed to True in Numba 0.59.0. See https://numba.readthedocs.io/en/stable/reference/deprecation.html#deprecation-of-object-mode-fall-back-behaviour-when-using-jit for details.\u001b[0m\n",
      "  def ols_single(y):\n",
      "/home/santiagovargas/anaconda3/envs/allegro/lib/python3.9/site-packages/brisk/funcs.py:403: NumbaDeprecationWarning: \u001b[1mThe 'nopython' keyword argument was not supplied to the 'numba.jit' decorator. The implicit default value for this argument is currently False, but it will be changed to True in Numba 0.59.0. See https://numba.readthedocs.io/en/stable/reference/deprecation.html#deprecation-of-object-mode-fall-back-behaviour-when-using-jit for details.\u001b[0m\n",
      "  def lin_resids(x, y, slope, intercept):\n",
      "/home/santiagovargas/anaconda3/envs/allegro/lib/python3.9/site-packages/brisk/funcs.py:414: NumbaDeprecationWarning: \u001b[1mThe 'nopython' keyword argument was not supplied to the 'numba.jit' decorator. The implicit default value for this argument is currently False, but it will be changed to True in Numba 0.59.0. See https://numba.readthedocs.io/en/stable/reference/deprecation.html#deprecation-of-object-mode-fall-back-behaviour-when-using-jit for details.\u001b[0m\n",
      "  def lin_resids_single(data, slope, intercept):\n"
     ]
    }
   ],
   "source": [
    "import numpy as np \n",
    "from kmcluster.core.utils import fetch_huanchen_plot\n",
    "from kmcluster.core.data import sparse_to_mat\n",
    "from kmcluster.core.data import energy_to_rates\n",
    "from kmcluster.core.intialize import random_init, boltz\n",
    "from kmcluster.core.viz import graph_trajectories_static\n",
    "from kmcluster.core.cluster import (\n",
    "    plot_coms_cdlib,\n",
    "    plot_affinity_at_temp,\n",
    ")\n",
    "\n",
    "# supress warnings\n",
    "import warnings\n",
    "\n",
    "warnings.filterwarnings(\"ignore\")"
   ]
  },
  {
   "cell_type": "code",
   "execution_count": 2,
   "metadata": {},
   "outputs": [],
   "source": [
    "# get data\n",
    "T = 100 # temperature\n",
    "huan_all, huan_rel = huan_bars = fetch_huanchen_plot()\n",
    "# generate boltzman distribution\n",
    "boltz_dist = boltz(size=10000, energies=huan_rel, T=T)\n",
    "energies_huan_mat = sparse_to_mat(huan_all)"
   ]
  },
  {
   "cell_type": "code",
   "execution_count": 3,
   "metadata": {},
   "outputs": [],
   "source": [
    "#energies_relative = energies_huan_mat - np.max(energies_huan_mat)\n",
    "rate_mat = energy_to_rates(energies_huan_mat, T, scale=1)\n",
    "# convert rate matrix to transition matrix\n",
    "transition_mat = rate_mat / np.sum(rate_mat, axis=1)[:, np.newaxis]\n",
    "# convert rate matrix to rate Matrix where diagonal is -1 * sum of column\n",
    "rate_mat_diag_neg = rate_mat - np.diag(np.sum(rate_mat, axis=0))"
   ]
  },
  {
   "cell_type": "code",
   "execution_count": 4,
   "metadata": {},
   "outputs": [
    {
     "name": "stdout",
     "output_type": "stream",
     "text": [
      "Stationary distribution:  [0.         0.05650384 0.         0.05650384 0.05650383 0.\n",
      " 0.05650383 0.05650384 0.05409612 0.05409612 0.0540964  0.05409612\n",
      " 0.         0.05409612 0.         0.         0.05409637 0.05650383\n",
      " 0.05645581 0.05650622 0.05409612 0.05388411 0.05650384 0.\n",
      " 0.         0.05650384 0.0540964  0.         0.05650384 0.        ]\n",
      "States visited by stationary distribution:  [ 1  3  4  6  7  8  9 10 11 13 16 17 18 19 20 21 22 25 26 28]\n"
     ]
    }
   ],
   "source": [
    "# get eigenvalues and eigenvectors of transition_mat \n",
    "eigvals, eigvecs = np.linalg.eig(transition_mat)\n",
    "# find stationary distribution\n",
    "pi = eigvecs[:, np.argmax(eigvals.real)]\n",
    "# normalize stationary distribution\n",
    "pi = pi / np.sum(pi)\n",
    "# filter out states with low probability\n",
    "pi[pi < 1e-3] = 0\n",
    "\n",
    "# this is a t --> inifinity\n",
    "print(\"Stationary distribution: \", pi.real)\n",
    "print(\"States visited by stationary distribution: \", np.nonzero(pi)[0])\n",
    "# this is zero indexed !!!"
   ]
  },
  {
   "cell_type": "code",
   "execution_count": 5,
   "metadata": {},
   "outputs": [],
   "source": [
    "# get eigenvalues and eigenvectors of rate matrix\n",
    "eigvals, eigvecs = np.linalg.eig(rate_mat_diag_neg)\n",
    "# sort eigenvalues and eigenvectors\n",
    "idx = eigvals.argsort()[::-1]\n",
    "# make any eigenvalues close to zero zero\n",
    "#eigvals[eigvals] = 0\n",
    "eigvals = eigvals[idx]\n",
    "eigvecs = eigvecs[:, idx]\n",
    "\n",
    "eig_mat = np.diag(eigvals)\n",
    "eig_vec_mat = eigvecs\n",
    "\n",
    "eig_vec_mat_inv = np.linalg.inv(eig_vec_mat)\n",
    "# if this give you an singular matrix error use np.linalg.pinv instead\n",
    "\n",
    "def taylor_expand_prop(eig_mat, t, order = 3):\n",
    "    # initialize matrix\n",
    "    taylor_mat = np.zeros_like(eig_mat)\n",
    "    # loop over order\n",
    "    for i in range(order):\n",
    "        # add to matrix\n",
    "        taylor_mat += np.linalg.matrix_power(t * eig_mat, i) / np.math.factorial(i)\n",
    "    return taylor_mat\n",
    "\n",
    "def propagate(a_0, time, eig_mat, eigvecs, inv_eigvecs, order = 3):\n",
    "    \"\"\"\n",
    "    a_0: initial distribution\n",
    "    time: time to propagate\n",
    "    eigvecs: eigenvectors of rate matrix\n",
    "    inv_eigvecs: inverse of eigenvectors of rate matrix\n",
    "    order: order of taylor expansion\n",
    "    \"\"\"\n",
    "    # initialize matrix\n",
    "    prop_mat = np.zeros_like(eigvecs)\n",
    "    # loop over order\n",
    "    taylor_mat = taylor_expand_prop(eig_mat, time, order)\n",
    "    # multiply by eigenvectors\n",
    "    prop_mat = np.matmul(eigvecs, np.matmul(taylor_mat, inv_eigvecs))\n",
    "    # multiply by initial distribution\n",
    "    prop_mat = np.matmul(prop_mat, a_0)\n",
    "    return prop_mat\n",
    "\n",
    "def propagate_alt(a_0, time, eig_mat, eigvecs, inv_eigvecs, order = 3):\n",
    "    \"\"\"\n",
    "    a_0: initial distribution\n",
    "    time: time to propagate\n",
    "    eigvecs: eigenvectors of rate matrix\n",
    "    inv_eigvecs: inverse of eigenvectors of rate matrix\n",
    "    order: order of taylor expansion\n",
    "    \"\"\"\n",
    "    ret_mat = np.zeros_like(a_0, dtype=np.complex128)\n",
    "    # loop over all eigenvectors\n",
    "    for i in range(len(eigvecs)):\n",
    "        # get eigenvalue\n",
    "        eig_val = eig_mat[i, i]\n",
    "        # get eigenvector\n",
    "        eig_vec = eigvecs[:, i]\n",
    "        # get inverse eigenvector\n",
    "        inv_eig_vec = inv_eigvecs[i, :]\n",
    "        # get taylor expansion\n",
    "        #print(inv_eig_vec * a_0 * np.exp(-1 * eig_val * time) * eig_vec)\n",
    "        ret_mat += inv_eig_vec * a_0 * np.exp(-1 * eig_val * time) * eig_vec\n",
    "    \n",
    "    return ret_mat"
   ]
  },
  {
   "cell_type": "code",
   "execution_count": 6,
   "metadata": {},
   "outputs": [],
   "source": [
    "boltz_dist = boltz(size=10000, energies=huan_rel, T=T)\n",
    "init_dist = boltz_dist.get_init_populations()\n",
    "init_dist_prop = init_dist / np.sum(init_dist)"
   ]
  },
  {
   "cell_type": "code",
   "execution_count": 13,
   "metadata": {},
   "outputs": [
    {
     "name": "stdout",
     "output_type": "stream",
     "text": [
      "[-6.18596616e+09 -8.78480516e+08  2.51174914e+09  8.61236639e+08\n",
      " -1.48069690e+09  3.62412014e+09  4.38106447e+08 -2.29045567e+06\n",
      " -3.63914601e+09  2.37378588e+05  3.41934965e+02  3.63890948e+09\n",
      " -1.49020329e+06 -1.22275267e+08 -1.14381208e+07 -4.08482716e+08\n",
      "  3.36998769e+02  1.04259141e+09  3.56999996e+02  3.78993956e+02\n",
      "  1.22276061e+08  3.37000000e+02  1.72448712e+07  4.58581170e+08\n",
      "  3.45930575e+02  2.29112790e+06  3.44200915e+02  1.29293441e+07\n",
      "  3.41083586e+02  3.58327879e+02]\n",
      "1.0000041027029531\n"
     ]
    }
   ],
   "source": [
    "new_state = propagate(init_dist_prop, 10e-6, eig_mat, eigvecs, eig_vec_mat_inv, order=2)\n",
    "# print without complex\n",
    "print(new_state.real * 10000)\n",
    "print(np.sum(new_state.real)) # should be 1\n"
   ]
  },
  {
   "cell_type": "code",
   "execution_count": 12,
   "metadata": {},
   "outputs": [
    {
     "data": {
      "text/plain": [
       "[311,\n",
       " 315,\n",
       " 311,\n",
       " 340,\n",
       " 292,\n",
       " 304,\n",
       " 340,\n",
       " 354,\n",
       " 342,\n",
       " 336,\n",
       " 339,\n",
       " 325,\n",
       " 358,\n",
       " 333,\n",
       " 321,\n",
       " 325,\n",
       " 337,\n",
       " 326,\n",
       " 357,\n",
       " 379,\n",
       " 312,\n",
       " 337,\n",
       " 340,\n",
       " 321,\n",
       " 344,\n",
       " 318,\n",
       " 344,\n",
       " 341,\n",
       " 341,\n",
       " 357]"
      ]
     },
     "execution_count": 12,
     "metadata": {},
     "output_type": "execute_result"
    }
   ],
   "source": [
    "init_dist"
   ]
  },
  {
   "cell_type": "code",
   "execution_count": null,
   "metadata": {},
   "outputs": [],
   "source": []
  }
 ],
 "metadata": {
  "kernelspec": {
   "display_name": "bondnet_e3nn",
   "language": "python",
   "name": "python3"
  },
  "language_info": {
   "codemirror_mode": {
    "name": "ipython",
    "version": 3
   },
   "file_extension": ".py",
   "mimetype": "text/x-python",
   "name": "python",
   "nbconvert_exporter": "python",
   "pygments_lexer": "ipython3",
   "version": "3.9.16"
  },
  "orig_nbformat": 4
 },
 "nbformat": 4,
 "nbformat_minor": 2
}
