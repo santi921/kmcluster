{
 "cells": [
  {
   "cell_type": "code",
   "execution_count": 1,
   "metadata": {},
   "outputs": [],
   "source": [
    "import numpy as np \n",
    "from kmcluster.core.kmc import kmc\n",
    "from kmcluster.core.transition_conditions import rfkmc, rkmc\n",
    "from kmcluster.core.intialize import random_init, boltz, global_minimum_only, selected\n",
    "from kmcluster.core.data import pull_json"
   ]
  },
  {
   "attachments": {},
   "cell_type": "markdown",
   "metadata": {},
   "source": [
    "# Parameters \n",
    "\n",
    "you can either create a dictionary manually or import a json using \"pull_json\" "
   ]
  },
  {
   "cell_type": "code",
   "execution_count": 2,
   "metadata": {},
   "outputs": [],
   "source": [
    "time_end = 100 # time stop condition\n",
    "steps = 100 # number of steps\n",
    "size = 100 # number of independet trajectories \n",
    "n_states = 10 # number of states\n",
    "energies = [0, 1.0, 1.0, -1.0] # list of energies \n",
    "init_dict = {0:0.5, 1:0.5} # dictionary of custom proportions to start with ({state:proportion,...})\n",
    "temp_boltz = 1.0  # temperature for boltzmann distribution + kmc\n",
    "temp_sample = 1.0 # temp for sampling kmc\n",
    "rates_two_states = [[0.0,0.1],[0.01, 0.0]]\n",
    "rates_four_states_sink = np.array([[0.0,0.0,0.0,0.1],[0.0,0.0,0.0,0.1],[0.0,0.0,0.0,0.1],[0.0,0.0,0.0,0.0]])\n",
    "rates_four_sym = np.array([[0.0,0.1,0.0,0.0],[0.0,0.0,0.1,0.0],[0.0,0.0,0.0,0.1],[0.1,0.0,0.0,0.0]])\n",
    "rates_as_sparse = []\n",
    "\n",
    "parameters = {\n",
    "    'time': time_end,\n",
    "    'steps': steps,\n",
    "    'size': size,\n",
    "    'n_states': n_states,\n",
    "    'energies': energies,\n",
    "    'rates': rates_four_sym.tolist(),\n",
    "    'draw_method': 'rfkmc',\n",
    "    'init_method': 'random_init',\n",
    "    #'draw_obj': rfkmc(rates_four_sym),\n",
    "    #'init_obj': random_init(size, 4),\n",
    "    't_boltz': 10, \n",
    "    'init_state_proportion': {0:0.5, 1:0.5}\n",
    "}\n",
    "\n",
    "\n",
    "# save parameters as json\n",
    "#import json \n",
    "#json.dump(parameters, open('parameters.json', 'w'), indent=4)\n",
    "\n",
    "# load parameters from json\n",
    "parameters = pull_json('./parameters.json')"
   ]
  },
  {
   "attachments": {},
   "cell_type": "markdown",
   "metadata": {},
   "source": [
    "# Initializations\n",
    "\n",
    "1) boltz - given temp, number of trajectories, and energies initialize\n",
    "2) global min - give it a list of energies\n",
    "3) selected - user specified in the format {index of start:proportion, ...}\n",
    "4) random"
   ]
  },
  {
   "cell_type": "code",
   "execution_count": 3,
   "metadata": {},
   "outputs": [],
   "source": [
    "# different initalization options \n",
    "init_boltz = boltz(energies = energies, T=temp_boltz, size = size)\n",
    "init_global_min = global_minimum_only(energies=energies, size=size)\n",
    "init_select = selected(size, init_dict, n_states)\n",
    "init_random = random_init(size, n_states)"
   ]
  },
  {
   "attachments": {},
   "cell_type": "markdown",
   "metadata": {},
   "source": [
    "# Drawing Criteria: \n",
    "Two options are available right now: \n",
    "1) rfkmc - rejection free kmc \n",
    "2) rkmc - rejection kmc where you input parameter r_0"
   ]
  },
  {
   "cell_type": "code",
   "execution_count": 4,
   "metadata": {},
   "outputs": [],
   "source": [
    "rfkmc_obj=rfkmc()\n",
    "rkmc = rkmc(r_0 = 1.0)"
   ]
  },
  {
   "attachments": {},
   "cell_type": "markdown",
   "metadata": {},
   "source": [
    "# Putting it together in kmc()\n",
    "You can now construct the kmc object and .run() will run the trajectories. Note that steps != time so you can either set steps or time_stop where time will stop once all trajectories reach a certain time or steps are reached, whichever comes first."
   ]
  },
  {
   "cell_type": "code",
   "execution_count": 5,
   "metadata": {},
   "outputs": [
    {
     "name": "stderr",
     "output_type": "stream",
     "text": [
      "100%|██████████| 10/10 [00:00<00:00, 140.05it/s]\n"
     ]
    }
   ],
   "source": [
    "rfkmc_obj=rfkmc()\n",
    "\n",
    "init_boltz = boltz(\n",
    "    energies = energies, \n",
    "    T=temp_boltz, \n",
    "    size=10000)\n",
    "\n",
    "# initialize kmc object\n",
    "kmc_boltz = kmc(\n",
    "    steps=1000,\n",
    "    time_stop = 100, \n",
    "    pop_size=parameters['size'],\n",
    "    rates=rates_four_states_sink,\n",
    "    draw_crit=rfkmc_obj,\n",
    "    initialization=init_boltz,\n",
    ")\n",
    "\n",
    "# run calcs\n",
    "kmc_boltz.run(n_steps=10)"
   ]
  },
  {
   "cell_type": "code",
   "execution_count": 6,
   "metadata": {},
   "outputs": [],
   "source": [
    "# extract trajectories after run\n",
    "trajectories = kmc_boltz.trajectories"
   ]
  },
  {
   "cell_type": "code",
   "execution_count": null,
   "metadata": {},
   "outputs": [],
   "source": [
    "plot_top_n_states(trajectories, n=10, max_time = 100) # TODO: plot the populations over time of top N states"
   ]
  },
  {
   "cell_type": "code",
   "execution_count": null,
   "metadata": {},
   "outputs": [],
   "source": [
    "time_slice = 0\n",
    "graph_trajectories_static(trajectories, time_slice) # TODO: heatmap graph of a given timeframe, -1 is for the last step each traj reached"
   ]
  },
  {
   "cell_type": "code",
   "execution_count": null,
   "metadata": {},
   "outputs": [],
   "source": [
    "graph_trajectories_dynamic(trajectories, max_time = 1000) # TODO: movie of heatmap over time"
   ]
  },
  {
   "cell_type": "code",
   "execution_count": null,
   "metadata": {},
   "outputs": [],
   "source": [
    "communities_static(trajectories, time = 1000) # TODO: create superbasins of states using community graph algorithms"
   ]
  },
  {
   "cell_type": "code",
   "execution_count": null,
   "metadata": {},
   "outputs": [],
   "source": [
    "communities(trajectories, max_time = 1000) # TODO: create superbasins of states using community graph algorithms"
   ]
  }
 ],
 "metadata": {
  "kernelspec": {
   "display_name": "allegro",
   "language": "python",
   "name": "python3"
  },
  "language_info": {
   "codemirror_mode": {
    "name": "ipython",
    "version": 3
   },
   "file_extension": ".py",
   "mimetype": "text/x-python",
   "name": "python",
   "nbconvert_exporter": "python",
   "pygments_lexer": "ipython3",
   "version": "3.9.15"
  },
  "orig_nbformat": 4,
  "vscode": {
   "interpreter": {
    "hash": "83bf3f30ebc8ab266301257936c6da3dc1c2a0c976cc3d3a5cbf6d125cf19921"
   }
  }
 },
 "nbformat": 4,
 "nbformat_minor": 2
}
