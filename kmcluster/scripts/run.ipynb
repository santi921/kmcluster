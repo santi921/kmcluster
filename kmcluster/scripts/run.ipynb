{
 "cells": [
  {
   "attachments": {},
   "cell_type": "markdown",
   "metadata": {},
   "source": [
    "# Installation \n",
    "\n",
    "from the root kmcluster folder you want to run the 'pip install -e .' then you will be able to run the box below without errors"
   ]
  },
  {
   "cell_type": "code",
   "execution_count": 1,
   "metadata": {},
   "outputs": [],
   "source": [
    "import numpy as np\n",
    "from kmcluster.core.kmc import kmc\n",
    "from kmcluster.core.transition_conditions import rfkmc, rkmc\n",
    "from kmcluster.core.intialize import random_init, boltz, global_minimum_only, selected\n",
    "from kmcluster.core.data import pull_json\n",
    "\n",
    "from kmcluster.core.viz import (\n",
    "    plot_top_n_states,\n",
    "    plot_states,\n",
    "    graph_trajectories_static,\n",
    "    graph_trajectories_dynamic,\n",
    "    communities_static,\n",
    "    compute_state_counts,\n",
    ")"
   ]
  },
  {
   "attachments": {},
   "cell_type": "markdown",
   "metadata": {},
   "source": [
    "# Parameters \n",
    "\n",
    "you can either create a dictionary manually or import a json using \"pull_json\" "
   ]
  },
  {
   "cell_type": "code",
   "execution_count": 2,
   "metadata": {},
   "outputs": [],
   "source": [
    "time_end = 100  # time stop condition\n",
    "steps = 100  # number of steps\n",
    "size = 100  # number of independet trajectories\n",
    "n_states = 10  # number of states\n",
    "energies = [0, 1.0, 1.0, -1.0]  # list of energies\n",
    "init_dict = {\n",
    "    0: 0.5,\n",
    "    1: 0.5,\n",
    "}  # dictionary of custom proportions to start with ({state:proportion,...})\n",
    "temp_boltz = 1.0  # temperature for boltzmann distribution + kmc\n",
    "temp_sample = 1.0  # temp for sampling kmc\n",
    "energies_two_states = [[0.0, 0.1], [0.01, 0.0]]\n",
    "energies_four_states_sink = np.array(\n",
    "    [\n",
    "        [0.0, 0.0, 0.0, 0.1],\n",
    "        [0.0, 0.0, 0.0, 0.1],\n",
    "        [0.0, 0.0, 0.0, 0.1],\n",
    "        [0.0, 0.0, 0.0, 0.0],\n",
    "    ]\n",
    ")\n",
    "energies_four_sym = np.array(\n",
    "    [\n",
    "        [0.0, 10.1, 0.0, 0.0],\n",
    "        [0.0, 0.0, 1.1, 0.0],\n",
    "        [0.0, 0.0, 0.0, 1.1],\n",
    "        [1.1, 0.0, 0.0, 0.0],\n",
    "    ]\n",
    ")\n",
    "rates_as_sparse = []\n",
    "\n",
    "parameters = {\n",
    "    \"time\": time_end,\n",
    "    \"steps\": steps,\n",
    "    \"size\": size,\n",
    "    \"n_states\": n_states,\n",
    "    \"energies\": energies,\n",
    "    \"energies\": energies_four_sym.tolist(),\n",
    "    \"draw_method\": \"rfkmc\",\n",
    "    \"init_method\": \"random_init\",\n",
    "    #'draw_obj': rfkmc(rates_four_sym),\n",
    "    #'init_obj': random_init(size, 4),\n",
    "    \"t_boltz\": 10,\n",
    "    \"init_state_proportion\": {0: 0.5, 1: 0.5},\n",
    "}\n",
    "\n",
    "\n",
    "# save parameters as json\n",
    "# import json\n",
    "# json.dump(parameters, open('parameters.json', 'w'), indent=4)\n",
    "\n",
    "# load parameters from json\n",
    "parameters = pull_json(\"./parameters.json\")"
   ]
  },
  {
   "attachments": {},
   "cell_type": "markdown",
   "metadata": {},
   "source": [
    "# Initializations\n",
    "\n",
    "1) boltz - given temp, number of trajectories, and energies initialize\n",
    "2) global min - give it a list of energies\n",
    "3) selected - user specified in the format {index of start:proportion, ...}\n",
    "4) random"
   ]
  },
  {
   "cell_type": "code",
   "execution_count": 3,
   "metadata": {},
   "outputs": [],
   "source": [
    "# different initalization options\n",
    "init_boltz = boltz(energies=energies, T=temp_boltz, size=size)\n",
    "init_global_min = global_minimum_only(energies=energies, size=size)\n",
    "init_select = selected(size, init_dict, n_states)\n",
    "init_random = random_init(size, n_states)"
   ]
  },
  {
   "attachments": {},
   "cell_type": "markdown",
   "metadata": {},
   "source": [
    "# Drawing Criteria: \n",
    "Two options are available right now: \n",
    "1) rfkmc - rejection free kmc \n",
    "2) rkmc - rejection kmc where you input parameter r_0"
   ]
  },
  {
   "cell_type": "code",
   "execution_count": 4,
   "metadata": {},
   "outputs": [],
   "source": [
    "rfkmc_obj = rfkmc(k_b_t=1.0)\n",
    "rkmc_obj = rkmc(r_0=1.0, k_b_t=1.0)"
   ]
  },
  {
   "attachments": {},
   "cell_type": "markdown",
   "metadata": {},
   "source": [
    "# Putting it together in kmc()\n",
    "You can now construct the kmc object and .run() will run the trajectories. Note that steps != time so you can either set steps or time_stop where time will stop once all trajectories reach a certain time or steps are reached, whichever comes first."
   ]
  },
  {
   "cell_type": "code",
   "execution_count": 8,
   "metadata": {},
   "outputs": [
    {
     "name": "stderr",
     "output_type": "stream",
     "text": [
      "100%|██████████| 10/10 [00:00<00:00, 553.69it/s]"
     ]
    },
    {
     "name": "stdout",
     "output_type": "stream",
     "text": [
      "Warning: trajectories in this step have steps sizes < 1e-15s\n",
      "\n",
      "Warning: trajectories in this step have steps sizes < 1e-15s\n",
      "\n",
      "Warning: trajectories in this step have steps sizes < 1e-15s\n",
      "\n",
      "Warning: trajectories in this step have steps sizes < 1e-15s\n",
      "\n",
      "Warning: trajectories in this step have steps sizes < 1e-15s\n",
      "\n",
      "Warning: trajectories in this step have steps sizes < 1e-15s\n",
      "\n",
      "Warning: trajectories in this step have steps sizes < 1e-15s\n",
      "\n"
     ]
    },
    {
     "name": "stderr",
     "output_type": "stream",
     "text": [
      "\n"
     ]
    }
   ],
   "source": [
    "rfkmc_obj = rfkmc(k_b_t=1.0)\n",
    "\n",
    "init_boltz = boltz(energies=energies, T=temp_boltz, size=10000)\n",
    "\n",
    "# initialize kmc object\n",
    "kmc_boltz = kmc(\n",
    "    time_stop=1000,\n",
    "    energies=energies_four_sym,\n",
    "    draw_crit=rfkmc_obj,\n",
    "    initialization=init_global_min,\n",
    "    memory_friendly=False\n",
    ")\n",
    "\n",
    "# run calcs\n",
    "kmc_boltz.run(n_steps=10)"
   ]
  },
  {
   "cell_type": "code",
   "execution_count": 9,
   "metadata": {},
   "outputs": [
    {
     "data": {
      "text/html": [
       "<div>\n",
       "<style scoped>\n",
       "    .dataframe tbody tr th:only-of-type {\n",
       "        vertical-align: middle;\n",
       "    }\n",
       "\n",
       "    .dataframe tbody tr th {\n",
       "        vertical-align: top;\n",
       "    }\n",
       "\n",
       "    .dataframe thead th {\n",
       "        text-align: right;\n",
       "    }\n",
       "</style>\n",
       "<table border=\"1\" class=\"dataframe\">\n",
       "  <thead>\n",
       "    <tr style=\"text-align: right;\">\n",
       "      <th></th>\n",
       "      <th>count</th>\n",
       "    </tr>\n",
       "  </thead>\n",
       "  <tbody>\n",
       "    <tr>\n",
       "      <th>3</th>\n",
       "      <td>100</td>\n",
       "    </tr>\n",
       "    <tr>\n",
       "      <th>0</th>\n",
       "      <td>0</td>\n",
       "    </tr>\n",
       "    <tr>\n",
       "      <th>1</th>\n",
       "      <td>0</td>\n",
       "    </tr>\n",
       "    <tr>\n",
       "      <th>2</th>\n",
       "      <td>0</td>\n",
       "    </tr>\n",
       "  </tbody>\n",
       "</table>\n",
       "</div>"
      ],
      "text/plain": [
       "   count\n",
       "3    100\n",
       "0      0\n",
       "1      0\n",
       "2      0"
      ]
     },
     "execution_count": 9,
     "metadata": {},
     "output_type": "execute_result"
    }
   ],
   "source": [
    "# get ur data as a dictionary\n",
    "kmc_boltz.get_state_dict_at_time_as_pandas(t=0)"
   ]
  },
  {
   "cell_type": "code",
   "execution_count": 7,
   "metadata": {},
   "outputs": [],
   "source": [
    "# extract trajectories after run\n",
    "trajectories = kmc_boltz.trajectories"
   ]
  },
  {
   "cell_type": "code",
   "execution_count": 8,
   "metadata": {},
   "outputs": [
    {
     "name": "stdout",
     "output_type": "stream",
     "text": [
      "{'0': 2237, '1': 844, '2': 848, '3': 6071}\n"
     ]
    }
   ],
   "source": [
    "# get dictionary of states and their proportions at time t\n",
    "dict_states = kmc_boltz.get_state_dict_at_time(t=0)\n",
    "# sort dict_states by state\n",
    "dict_states = {k: v for k, v in sorted(dict_states.items(), key=lambda item: item[0])}\n",
    "print(dict_states)"
   ]
  },
  {
   "cell_type": "code",
   "execution_count": 8,
   "metadata": {},
   "outputs": [],
   "source": [
    "# save trajectories as json as dict in format {time: {state: count...}, time: {state: count...}, ...}\n",
    "kmc_boltz.save_as_dict(\n",
    "    \"../../reporting/traj_json/trajectories.json\", start_time=0, end_time=100, step=1\n",
    ")"
   ]
  },
  {
   "cell_type": "code",
   "execution_count": 9,
   "metadata": {},
   "outputs": [],
   "source": [
    "kmc_boltz.save_as_matrix(\n",
    "    \"../../reporting/traj_mat/trajectories\", start_time=0, end_time=120, step=1\n",
    ")"
   ]
  },
  {
   "cell_type": "code",
   "execution_count": 10,
   "metadata": {},
   "outputs": [
    {
     "data": {
      "text/plain": [
       "(10000, 120)"
      ]
     },
     "execution_count": 10,
     "metadata": {},
     "output_type": "execute_result"
    }
   ],
   "source": [
    "# load npy file\n",
    "traj_mat = np.load(\"../../reporting/traj_mat/trajectories.csv.npy\")\n",
    "traj_mat.shape  # (state, time)"
   ]
  },
  {
   "attachments": {},
   "cell_type": "markdown",
   "metadata": {},
   "source": [
    "# Visualizations "
   ]
  },
  {
   "cell_type": "code",
   "execution_count": 9,
   "metadata": {},
   "outputs": [
    {
     "data": {
      "image/png": "[encoded data removed]",
      "text/plain": [
       "<Figure size 640x480 with 1 Axes>"
      ]
     },
     "metadata": {},
     "output_type": "display_data"
    }
   ],
   "source": [
    "# trajectories object\n",
    "# n_show = number of states to show\n",
    "# total_states = total state number of states in the system\n",
    "# max_time = upper bound of plotting\n",
    "\n",
    "plot_top_n_states(trajectories, n_show=4, total_states=4, resolution=1, max_time=20)"
   ]
  },
  {
   "cell_type": "code",
   "execution_count": 10,
   "metadata": {},
   "outputs": [
    {
     "data": {
      "image/png": "[encoded data removed]",
      "text/plain": [
       "<Figure size 640x480 with 1 Axes>"
      ]
     },
     "metadata": {},
     "output_type": "display_data"
    }
   ],
   "source": [
    "plot_states(\n",
    "    trajectories,\n",
    "    states_to_plot=[0, 2, 3],\n",
    "    resolution=1,\n",
    "    max_time=20,\n",
    "    title=\"Test Run\",\n",
    "    xlabel=\"Time\",\n",
    "    ylabel=\"State Counts\",\n",
    "    save=True,\n",
    "    save_name=\"../../reporting/plots/test_run.png\",\n",
    ")"
   ]
  },
  {
   "cell_type": "code",
   "execution_count": 11,
   "metadata": {},
   "outputs": [
    {
     "name": "stdout",
     "output_type": "stream",
     "text": [
      "[0, 1, 2, 3]\n",
      "[848, 6071, 2237, 844]\n"
     ]
    },
    {
     "data": {
      "image/png": "[encoded data removed]",
      "text/plain": [
       "<Figure size 640x480 with 1 Axes>"
      ]
     },
     "metadata": {},
     "output_type": "display_data"
    }
   ],
   "source": [
    "time_slice = 0\n",
    "pos = graph_trajectories_static(\n",
    "    trajectories=trajectories, energies=energies_four_sym, time=1, ret_pos=True\n",
    ")\n",
    "# TODO: heatmap graph of a given timeframe, -1 is for the last step each traj reached"
   ]
  },
  {
   "cell_type": "code",
   "execution_count": 12,
   "metadata": {},
   "outputs": [
    {
     "name": "stdout",
     "output_type": "stream",
     "text": [
      "[0, 1, 2, 3]\n",
      "[848, 6071, 2237, 844]\n"
     ]
    },
    {
     "data": {
      "image/png": "[encoded data removed]",
      "text/plain": [
       "<Figure size 640x480 with 1 Axes>"
      ]
     },
     "metadata": {},
     "output_type": "display_data"
    }
   ],
   "source": [
    "time_slice = 0\n",
    "graph_trajectories_static(\n",
    "    trajectories=trajectories, energies=energies_four_sym, time=100, pos=pos\n",
    ")"
   ]
  },
  {
   "cell_type": "code",
   "execution_count": 2,
   "metadata": {},
   "outputs": [],
   "source": [
    "# %matplotlib nbagg\n",
    "graph_trajectories_dynamic(\n",
    "    trajectories=trajectories,\n",
    "    energies=energies_four_sym,\n",
    "    time_max=1000,\n",
    "    n_states=4,\n",
    "    file_name=\"Pt4H1\",\n",
    ")  # TODO: movie of heatmap over time"
   ]
  },
  {
   "cell_type": "code",
   "execution_count": null,
   "metadata": {},
   "outputs": [],
   "source": [
    "# communities_static(trajectories, time = 1000) # TODO: create superbasins of states using community graph algorithms"
   ]
  },
  {
   "cell_type": "code",
   "execution_count": null,
   "metadata": {},
   "outputs": [],
   "source": [
    "# communities(trajectories, max_time = 1000) # TODO: create superbasins of states using community graph algorithms"
   ]
  },
  {
   "attachments": {},
   "cell_type": "markdown",
   "metadata": {},
   "source": [
    "# Real Data"
   ]
  },
  {
   "cell_type": "code",
   "execution_count": 2,
   "metadata": {},
   "outputs": [],
   "source": [
    "Pt_H1_links = [\n",
    "    [0, 1, 0.15],\n",
    "    [0, 2, 0.61],\n",
    "    [0, 3, 0.39],\n",
    "    [2, 4, 0.27],\n",
    "    [2, 6, 0.50],\n",
    "    [2, 8, 0.66],\n",
    "    [3, 8, 0.50],\n",
    "    [5, 7, 0.52],\n",
    "    [5, 9, 0.66],\n",
    "    [5, 6, 0.66],\n",
    "]\n",
    "H_H1_links = [\n",
    "    [0, 6, 0.52],\n",
    "    [1, 2, 0.28],\n",
    "    [2, 5, 0.22],\n",
    "    [3, 5, 0.22],\n",
    "    [7, 8, 0.15],\n",
    "    [8, 9, 0.14],\n",
    "]\n",
    "Pt4H1_rawE = [\n",
    "    -17.71720725,\n",
    "    -17.68531409,\n",
    "    -17.57336808,\n",
    "    -17.50640668,\n",
    "    -17.50097929,\n",
    "    -17.50887522,\n",
    "    -17.38155630,\n",
    "    -17.25580137,\n",
    "    -17.15164472,\n",
    "    -17.13649884,\n",
    "]\n",
    "H1_E = [Pt4H1_rawE[x] - Pt4H1_rawE[0] for x in range(0, len(Pt4H1_rawE))]\n",
    "\n",
    "Pt4H1_rev = []\n",
    "for i in range(0, len(Pt_H1_links)):\n",
    "    Pt4H1_rev.append(\n",
    "        [\n",
    "            Pt_H1_links[i][1],\n",
    "            Pt_H1_links[i][0],\n",
    "            round(\n",
    "                (Pt_H1_links[i][2] + H1_E[Pt_H1_links[i][0]]) - H1_E[Pt_H1_links[i][1]],\n",
    "                2,\n",
    "            ),\n",
    "        ]\n",
    "    )\n",
    "\n",
    "# raw energies\n",
    "Pt4H1_rawE = [\n",
    "    -17.71720725,\n",
    "    -17.68531409,\n",
    "    -17.57336808,\n",
    "    -17.50640668,\n",
    "    -17.50097929,\n",
    "    -17.50887522,\n",
    "    -17.38155630,\n",
    "    -17.25580137,\n",
    "    -17.15164472,\n",
    "    -17.13649884,\n",
    "]\n",
    "\n",
    "# relative energies\n",
    "H1_E = [Pt4H1_rawE[x] - Pt4H1_rawE[0] for x in range(0, len(Pt4H1_rawE))]\n",
    "\n",
    "# all the forward barriers\n",
    "Pt_H1_links = [\n",
    "    [0, 1, 0.15],\n",
    "    [0, 2, 0.61],\n",
    "    [0, 3, 0.39],\n",
    "    [2, 4, 0.27],\n",
    "    [2, 6, 0.50],\n",
    "    [2, 8, 0.66],\n",
    "    [3, 8, 0.55],\n",
    "    [5, 7, 0.52],\n",
    "    [5, 9, 0.66],\n",
    "    [5, 6, 0.66],\n",
    "    [0, 6, 0.52],\n",
    "    [1, 2, 0.28],\n",
    "    [2, 5, 0.22],\n",
    "    [3, 5, 0.22],\n",
    "    [7, 8, 0.15],\n",
    "    [8, 9, 0.14],\n",
    "]\n",
    "\n",
    "# calculating the reverse barriers\n",
    "Pt4H1_rev = []\n",
    "for i in range(0, len(Pt_H1_links)):\n",
    "    Pt4H1_rev.append(\n",
    "        [\n",
    "            Pt_H1_links[i][1],\n",
    "            Pt_H1_links[i][0],\n",
    "            round(\n",
    "                (Pt_H1_links[i][2] + H1_E[Pt_H1_links[i][0]]) - H1_E[Pt_H1_links[i][1]],\n",
    "                2,\n",
    "            ),\n",
    "        ]\n",
    "    )\n",
    "\n",
    "# all barriers\n",
    "Pt_H1_all = Pt_H1_links + Pt4H1_rev"
   ]
  },
  {
   "cell_type": "code",
   "execution_count": 3,
   "metadata": {},
   "outputs": [],
   "source": [
    "from kmcluster.core.data import sparse_to_mat\n",
    "\n",
    "energies_mat = sparse_to_mat(Pt_H1_all)"
   ]
  },
  {
   "cell_type": "code",
   "execution_count": 4,
   "metadata": {},
   "outputs": [
    {
     "name": "stdout",
     "output_type": "stream",
     "text": [
      "903509666455.3895\n",
      "9.04e+11\n"
     ]
    }
   ],
   "source": [
    "# find minimum values not equal to 0\n",
    "# min_val = np.min(energies_mat[np.nonzero(energies_mat)])\n",
    "# min_val\n",
    "energy = 0.05\n",
    "temp_boltz = 300 * 8.617 * 10 ** (-5)\n",
    "k_b_ev = 8.614 * 10**-5\n",
    "\n",
    "rate = (temp_boltz / (4.1357 * 10**-15)) * np.exp(-(energy / (temp_boltz)))\n",
    "\n",
    "print(rate)\n",
    "# print in scientific notation\n",
    "print(\"{:.2e}\".format(rate))"
   ]
  },
  {
   "cell_type": "code",
   "execution_count": 5,
   "metadata": {},
   "outputs": [
    {
     "name": "stdout",
     "output_type": "stream",
     "text": [
      "Lowest time at step 0: 0.00000e+00\n",
      "\n",
      "coarsening trajectories at step 12\n",
      "\n",
      "coarsening trajectories at step 24\n",
      "\n",
      "coarsening trajectories at step 36\n",
      "\n",
      "coarsening trajectories at step 48\n",
      "\n",
      "coarsening trajectories at step 62\n",
      "\n",
      "coarsening trajectories at step 74\n",
      "\n",
      "coarsening trajectories at step 86\n",
      "\n",
      "coarsening trajectories at step 98\n",
      "\n",
      "Lowest time at step 100: 7.90015e-05\n",
      "\n",
      "coarsening trajectories at step 108\n",
      "\n",
      "Saving to file: ./checkpoints/saved_data_trajectories_10_ckpt_start_0_end_1.00000e-04_step_1.00000e-07\n",
      "Lowest time at step 119: 9.80475e-05\n",
      "\n"
     ]
    }
   ],
   "source": [
    "temp_boltz = 100 * 8.617 * 10 ** (-5)\n",
    "rfkmc_obj = rfkmc(k_b_t=temp_boltz)\n",
    "\n",
    "init_boltz = boltz(energies=H1_E, T=temp_boltz, size=10000)\n",
    "init_random = random_init(10000, energies_mat.shape[0])\n",
    "\n",
    "# initialize kmc object\n",
    "kmc_boltz = kmc(\n",
    "    time_stop=0.0001,\n",
    "    energies=energies_mat,\n",
    "    draw_crit=rfkmc_obj,\n",
    "    initialization=init_random,\n",
    "    memory_friendly=True\n",
    ")\n",
    "\n",
    "# run calcs\n",
    "# can either run to a certain number of steps or until a certain time\n",
    "# n_steps=-1 means run until time_stop is reached\n",
    "kmc_boltz.run(n_steps=-1)\n",
    "# kmc_boltz.run(n_steps=100)\n",
    "trajectories = kmc_boltz.trajectories"
   ]
  },
  {
   "cell_type": "code",
   "execution_count": 6,
   "metadata": {},
   "outputs": [
    {
     "data": {
      "text/html": [
       "<div>\n",
       "<style scoped>\n",
       "    .dataframe tbody tr th:only-of-type {\n",
       "        vertical-align: middle;\n",
       "    }\n",
       "\n",
       "    .dataframe tbody tr th {\n",
       "        vertical-align: top;\n",
       "    }\n",
       "\n",
       "    .dataframe thead th {\n",
       "        text-align: right;\n",
       "    }\n",
       "</style>\n",
       "<table border=\"1\" class=\"dataframe\">\n",
       "  <thead>\n",
       "    <tr style=\"text-align: right;\">\n",
       "      <th></th>\n",
       "      <th>count</th>\n",
       "    </tr>\n",
       "  </thead>\n",
       "  <tbody>\n",
       "    <tr>\n",
       "      <th>0</th>\n",
       "      <td>1137</td>\n",
       "    </tr>\n",
       "    <tr>\n",
       "      <th>1</th>\n",
       "      <td>1184</td>\n",
       "    </tr>\n",
       "    <tr>\n",
       "      <th>2</th>\n",
       "      <td>1075</td>\n",
       "    </tr>\n",
       "    <tr>\n",
       "      <th>3</th>\n",
       "      <td>1099</td>\n",
       "    </tr>\n",
       "    <tr>\n",
       "      <th>4</th>\n",
       "      <td>1096</td>\n",
       "    </tr>\n",
       "    <tr>\n",
       "      <th>5</th>\n",
       "      <td>1087</td>\n",
       "    </tr>\n",
       "    <tr>\n",
       "      <th>6</th>\n",
       "      <td>1077</td>\n",
       "    </tr>\n",
       "    <tr>\n",
       "      <th>7</th>\n",
       "      <td>1124</td>\n",
       "    </tr>\n",
       "    <tr>\n",
       "      <th>8</th>\n",
       "      <td>1121</td>\n",
       "    </tr>\n",
       "    <tr>\n",
       "      <th>9</th>\n",
       "      <td>0</td>\n",
       "    </tr>\n",
       "  </tbody>\n",
       "</table>\n",
       "</div>"
      ],
      "text/plain": [
       "   count\n",
       "0   1137\n",
       "1   1184\n",
       "2   1075\n",
       "3   1099\n",
       "4   1096\n",
       "5   1087\n",
       "6   1077\n",
       "7   1124\n",
       "8   1121\n",
       "9      0"
      ]
     },
     "execution_count": 6,
     "metadata": {},
     "output_type": "execute_result"
    }
   ],
   "source": [
    "# two ways to get state dicts and they now include states with zero counts\n",
    "kmc_boltz.get_state_dict_at_time_as_pandas(0.0)"
   ]
  },
  {
   "cell_type": "code",
   "execution_count": 7,
   "metadata": {},
   "outputs": [
    {
     "data": {
      "text/plain": [
       "{'0': 2869,\n",
       " '1': 87,\n",
       " '2': 1383,\n",
       " '3': 992,\n",
       " '4': 1087,\n",
       " '5': 362,\n",
       " '6': 975,\n",
       " '7': 2245,\n",
       " '8': 0,\n",
       " '9': 0}"
      ]
     },
     "execution_count": 7,
     "metadata": {},
     "output_type": "execute_result"
    }
   ],
   "source": [
    "kmc_boltz.get_state_dict_at_time(t=0.00006)"
   ]
  },
  {
   "cell_type": "code",
   "execution_count": 8,
   "metadata": {},
   "outputs": [
    {
     "data": {
      "text/plain": [
       "9.804746888089584e-05"
      ]
     },
     "execution_count": 8,
     "metadata": {},
     "output_type": "execute_result"
    }
   ],
   "source": [
    "kmc_boltz.lowest_time"
   ]
  },
  {
   "cell_type": "code",
   "execution_count": 9,
   "metadata": {},
   "outputs": [
    {
     "data": {
      "image/png": "[encoded data removed]",
      "text/plain": [
       "<Figure size 432x288 with 1 Axes>"
      ]
     },
     "metadata": {
      "needs_background": "light"
     },
     "output_type": "display_data"
    }
   ],
   "source": [
    "kmc_boltz.plot_top_n_states(6)"
   ]
  },
  {
   "cell_type": "code",
   "execution_count": 10,
   "metadata": {},
   "outputs": [
    {
     "data": {
      "image/png": "[encoded data removed]",
      "text/plain": [
       "<Figure size 432x288 with 1 Axes>"
      ]
     },
     "metadata": {
      "needs_background": "light"
     },
     "output_type": "display_data"
    }
   ],
   "source": [
    "plot_top_n_states(\n",
    "    trajectories,\n",
    "    n_show=6,\n",
    "    total_states=len(kmc_boltz.get_state_dict_at_time_as_pandas(0.00007)),\n",
    "    resolution=0.00007/100,\n",
    "    max_time=0.00007\n",
    ")"
   ]
  },
  {
   "cell_type": "code",
   "execution_count": 11,
   "metadata": {},
   "outputs": [
    {
     "data": {
      "image/png": "[encoded data removed]",
      "text/plain": [
       "<Figure size 432x288 with 1 Axes>"
      ]
     },
     "metadata": {
      "needs_background": "light"
     },
     "output_type": "display_data"
    }
   ],
   "source": [
    "plot_states(\n",
    "    trajectories,\n",
    "    states_to_plot=[0, 7, 2, 4],\n",
    "    resolution=0.00007/10,\n",
    "    total_states=len(kmc_boltz.get_state_dict_at_time_as_pandas(0.00007)),\n",
    "    max_time=0.00007,\n",
    "    title=\"Test Run - Pt4H1\",\n",
    "    xlabel=\"Time\",\n",
    "    ylabel=\"State Counts\",\n",
    "    save=False,\n",
    "    save_name=\"../../reporting/plots/test_run_Pt4H1.png\",\n",
    ")"
   ]
  },
  {
   "cell_type": "code",
   "execution_count": 12,
   "metadata": {},
   "outputs": [
    {
     "data": {
      "application/vnd.plotly.v1+json": {
       "config": {
        "plotlyServerURL": "https://plot.ly"
       },
       "data": [
        {
         "fillpattern": {
          "shape": ""
         },
         "hovertemplate": "state=0<br>time=%{x}<br>percentage=%{y}<extra></extra>",
         "legendgroup": "0",
         "line": {
          "color": "#636efa"
         },
         "marker": {
          "symbol": "circle"
         },
         "mode": "lines",
         "name": "0",
         "orientation": "v",
         "showlegend": true,
         "stackgroup": "1",
         "type": "scatter",
         "x": [
          0,
          9.804746888089584e-7,
          0.000001960949377617917,
          0.000002941424066426875,
          0.000003921898755235834,
          0.0000049023734440447925,
          0.00000588284813285375,
          0.000006863322821662709,
          0.000007843797510471668,
          0.000008824272199280626,
          0.000009804746888089585,
          0.000010785221576898544,
          0.0000117656962657075,
          0.00001274617095451646,
          0.000013726645643325418,
          0.000014707120332134377,
          0.000015687595020943335,
          0.000016668069709752294,
          0.000017648544398561253,
          0.00001862901908737021,
          0.00001960949377617917,
          0.00002058996846498813,
          0.000021570443153797087,
          0.000022550917842606046,
          0.000023531392531415,
          0.00002451186722022396,
          0.00002549234190903292,
          0.000026472816597841877,
          0.000027453291286650836,
          0.000028433765975459794,
          0.000029414240664268753,
          0.000030394715353077712,
          0.00003137519004188667,
          0.00003235566473069563,
          0.00003333613941950459,
          0.000034316614108313546,
          0.000035297088797122505,
          0.000036277563485931464,
          0.00003725803817474042,
          0.00003823851286354938,
          0.00003921898755235834,
          0.0000401994622411673,
          0.00004117993692997626,
          0.000042160411618785216,
          0.000043140886307594174,
          0.00004412136099640313,
          0.00004510183568521209,
          0.00004608231037402105,
          0.00004706278506283,
          0.00004804325975163896,
          0.00004902373444044792,
          0.00005000420912925688,
          0.00005098468381806584,
          0.000051965158506874795,
          0.000052945633195683754,
          0.00005392610788449271,
          0.00005490658257330167,
          0.00005588705726211063,
          0.00005686753195091959,
          0.00005784800663972855,
          0.000058828481328537506,
          0.000059808956017346465,
          0.000060789430706155423,
          0.00006176990539496439,
          0.00006275038008377334,
          0.00006373085477258229,
          0.00006471132946139126,
          0.00006569180415020021,
          0.00006667227883900918,
          0.00006765275352781813,
          0.00006863322821662709,
          0.00006961370290543604,
          0.00007059417759424501,
          0.00007157465228305396,
          0.00007255512697186293,
          0.00007353560166067188,
          0.00007451607634948084,
          0.0000754965510382898,
          0.00007647702572709876,
          0.00007745750041590771,
          0.00007843797510471668,
          0.00007941844979352563,
          0.0000803989244823346,
          0.00008137939917114355,
          0.00008235987385995251,
          0.00008334034854876147,
          0.00008432082323757043,
          0.00008530129792637938,
          0.00008628177261518835,
          0.0000872622473039973,
          0.00008824272199280627,
          0.00008922319668161522,
          0.00009020367137042418,
          0.00009118414605923314,
          0.0000921646207480421,
          0.00009314509543685105,
          0.00009412557012566,
          0.00009510604481446897,
          0.00009608651950327792,
          0.00009706699419208689
         ],
         "xaxis": "x",
         "y": [
          0.1137,
          0.1137,
          0.1137,
          0.1137,
          0.2106,
          0.2237,
          0.2277,
          0.2286,
          0.2297,
          0.2308,
          0.2316,
          0.2321,
          0.2355,
          0.2345,
          0.2369,
          0.2379,
          0.2377,
          0.2388,
          0.2415,
          0.2416,
          0.2431,
          0.2432,
          0.2437,
          0.2455,
          0.2472,
          0.2495,
          0.2496,
          0.2511,
          0.2519,
          0.2523,
          0.2535,
          0.2547,
          0.2563,
          0.257,
          0.2595,
          0.2589,
          0.2601,
          0.26,
          0.2622,
          0.2638,
          0.2639,
          0.2656,
          0.2687,
          0.2687,
          0.2697,
          0.2704,
          0.2711,
          0.2719,
          0.2743,
          0.2749,
          0.2759,
          0.2764,
          0.2764,
          0.2811,
          0.2803,
          0.2809,
          0.2821,
          0.2844,
          0.2822,
          0.2854,
          0.2866,
          0.2869,
          0.2872,
          0.2904,
          0.2913,
          0.2914,
          0.2915,
          0.2952,
          0.2965,
          0.2978,
          0.2997,
          0.2984,
          0.3013,
          0.3005,
          0.3018,
          0.3047,
          0.3047,
          0.3048,
          0.3063,
          0.3085,
          0.3099,
          0.3105,
          0.3114,
          0.3133,
          0.3119,
          0.3136,
          0.3158,
          0.3167,
          0.3165,
          0.3195,
          0.3197,
          0.321,
          0.3211,
          0.3248,
          0.3246,
          0.3264,
          0.328,
          0.3274,
          0.3276,
          0.3281
         ],
         "yaxis": "y"
        },
        {
         "fillpattern": {
          "shape": ""
         },
         "hovertemplate": "state=1<br>time=%{x}<br>percentage=%{y}<extra></extra>",
         "legendgroup": "1",
         "line": {
          "color": "#EF553B"
         },
         "marker": {
          "symbol": "circle"
         },
         "mode": "lines",
         "name": "1",
         "orientation": "v",
         "showlegend": true,
         "stackgroup": "1",
         "type": "scatter",
         "x": [
          0,
          9.804746888089584e-7,
          0.000001960949377617917,
          0.000002941424066426875,
          0.000003921898755235834,
          0.0000049023734440447925,
          0.00000588284813285375,
          0.000006863322821662709,
          0.000007843797510471668,
          0.000008824272199280626,
          0.000009804746888089585,
          0.000010785221576898544,
          0.0000117656962657075,
          0.00001274617095451646,
          0.000013726645643325418,
          0.000014707120332134377,
          0.000015687595020943335,
          0.000016668069709752294,
          0.000017648544398561253,
          0.00001862901908737021,
          0.00001960949377617917,
          0.00002058996846498813,
          0.000021570443153797087,
          0.000022550917842606046,
          0.000023531392531415,
          0.00002451186722022396,
          0.00002549234190903292,
          0.000026472816597841877,
          0.000027453291286650836,
          0.000028433765975459794,
          0.000029414240664268753,
          0.000030394715353077712,
          0.00003137519004188667,
          0.00003235566473069563,
          0.00003333613941950459,
          0.000034316614108313546,
          0.000035297088797122505,
          0.000036277563485931464,
          0.00003725803817474042,
          0.00003823851286354938,
          0.00003921898755235834,
          0.0000401994622411673,
          0.00004117993692997626,
          0.000042160411618785216,
          0.000043140886307594174,
          0.00004412136099640313,
          0.00004510183568521209,
          0.00004608231037402105,
          0.00004706278506283,
          0.00004804325975163896,
          0.00004902373444044792,
          0.00005000420912925688,
          0.00005098468381806584,
          0.000051965158506874795,
          0.000052945633195683754,
          0.00005392610788449271,
          0.00005490658257330167,
          0.00005588705726211063,
          0.00005686753195091959,
          0.00005784800663972855,
          0.000058828481328537506,
          0.000059808956017346465,
          0.000060789430706155423,
          0.00006176990539496439,
          0.00006275038008377334,
          0.00006373085477258229,
          0.00006471132946139126,
          0.00006569180415020021,
          0.00006667227883900918,
          0.00006765275352781813,
          0.00006863322821662709,
          0.00006961370290543604,
          0.00007059417759424501,
          0.00007157465228305396,
          0.00007255512697186293,
          0.00007353560166067188,
          0.00007451607634948084,
          0.0000754965510382898,
          0.00007647702572709876,
          0.00007745750041590771,
          0.00007843797510471668,
          0.00007941844979352563,
          0.0000803989244823346,
          0.00008137939917114355,
          0.00008235987385995251,
          0.00008334034854876147,
          0.00008432082323757043,
          0.00008530129792637938,
          0.00008628177261518835,
          0.0000872622473039973,
          0.00008824272199280627,
          0.00008922319668161522,
          0.00009020367137042418,
          0.00009118414605923314,
          0.0000921646207480421,
          0.00009314509543685105,
          0.00009412557012566,
          0.00009510604481446897,
          0.00009608651950327792,
          0.00009706699419208689
         ],
         "xaxis": "x",
         "y": [
          0.1184,
          0.1184,
          0.1184,
          0.1184,
          0.0228,
          0.0112,
          0.0078,
          0.0076,
          0.0077,
          0.0076,
          0.0078,
          0.0089,
          0.0065,
          0.0085,
          0.0074,
          0.0073,
          0.0083,
          0.0089,
          0.0068,
          0.0077,
          0.007,
          0.0081,
          0.0092,
          0.0085,
          0.008,
          0.0069,
          0.008,
          0.0086,
          0.0083,
          0.0083,
          0.0086,
          0.0085,
          0.0073,
          0.0072,
          0.0064,
          0.0081,
          0.0082,
          0.0092,
          0.0086,
          0.008,
          0.0091,
          0.0082,
          0.0076,
          0.0084,
          0.0086,
          0.0088,
          0.0088,
          0.0092,
          0.0075,
          0.0086,
          0.0088,
          0.0095,
          0.0095,
          0.0064,
          0.0082,
          0.0082,
          0.0082,
          0.0072,
          0.0102,
          0.0082,
          0.0084,
          0.0087,
          0.0104,
          0.0085,
          0.0085,
          0.0092,
          0.0106,
          0.0081,
          0.0082,
          0.0079,
          0.0075,
          0.0101,
          0.0081,
          0.0102,
          0.0099,
          0.008,
          0.0101,
          0.0114,
          0.0108,
          0.0095,
          0.0094,
          0.0096,
          0.0096,
          0.0088,
          0.0114,
          0.0112,
          0.0101,
          0.0102,
          0.0116,
          0.0105,
          0.0113,
          0.0113,
          0.0122,
          0.0096,
          0.011,
          0.0104,
          0.0091,
          0.0108,
          0.0115,
          0.0119
         ],
         "yaxis": "y"
        },
        {
         "fillpattern": {
          "shape": ""
         },
         "hovertemplate": "state=2<br>time=%{x}<br>percentage=%{y}<extra></extra>",
         "legendgroup": "2",
         "line": {
          "color": "#00cc96"
         },
         "marker": {
          "symbol": "circle"
         },
         "mode": "lines",
         "name": "2",
         "orientation": "v",
         "showlegend": true,
         "stackgroup": "1",
         "type": "scatter",
         "x": [
          0,
          9.804746888089584e-7,
          0.000001960949377617917,
          0.000002941424066426875,
          0.000003921898755235834,
          0.0000049023734440447925,
          0.00000588284813285375,
          0.000006863322821662709,
          0.000007843797510471668,
          0.000008824272199280626,
          0.000009804746888089585,
          0.000010785221576898544,
          0.0000117656962657075,
          0.00001274617095451646,
          0.000013726645643325418,
          0.000014707120332134377,
          0.000015687595020943335,
          0.000016668069709752294,
          0.000017648544398561253,
          0.00001862901908737021,
          0.00001960949377617917,
          0.00002058996846498813,
          0.000021570443153797087,
          0.000022550917842606046,
          0.000023531392531415,
          0.00002451186722022396,
          0.00002549234190903292,
          0.000026472816597841877,
          0.000027453291286650836,
          0.000028433765975459794,
          0.000029414240664268753,
          0.000030394715353077712,
          0.00003137519004188667,
          0.00003235566473069563,
          0.00003333613941950459,
          0.000034316614108313546,
          0.000035297088797122505,
          0.000036277563485931464,
          0.00003725803817474042,
          0.00003823851286354938,
          0.00003921898755235834,
          0.0000401994622411673,
          0.00004117993692997626,
          0.000042160411618785216,
          0.000043140886307594174,
          0.00004412136099640313,
          0.00004510183568521209,
          0.00004608231037402105,
          0.00004706278506283,
          0.00004804325975163896,
          0.00004902373444044792,
          0.00005000420912925688,
          0.00005098468381806584,
          0.000051965158506874795,
          0.000052945633195683754,
          0.00005392610788449271,
          0.00005490658257330167,
          0.00005588705726211063,
          0.00005686753195091959,
          0.00005784800663972855,
          0.000058828481328537506,
          0.000059808956017346465,
          0.000060789430706155423,
          0.00006176990539496439,
          0.00006275038008377334,
          0.00006373085477258229,
          0.00006471132946139126,
          0.00006569180415020021,
          0.00006667227883900918,
          0.00006765275352781813,
          0.00006863322821662709,
          0.00006961370290543604,
          0.00007059417759424501,
          0.00007157465228305396,
          0.00007255512697186293,
          0.00007353560166067188,
          0.00007451607634948084,
          0.0000754965510382898,
          0.00007647702572709876,
          0.00007745750041590771,
          0.00007843797510471668,
          0.00007941844979352563,
          0.0000803989244823346,
          0.00008137939917114355,
          0.00008235987385995251,
          0.00008334034854876147,
          0.00008432082323757043,
          0.00008530129792637938,
          0.00008628177261518835,
          0.0000872622473039973,
          0.00008824272199280627,
          0.00008922319668161522,
          0.00009020367137042418,
          0.00009118414605923314,
          0.0000921646207480421,
          0.00009314509543685105,
          0.00009412557012566,
          0.00009510604481446897,
          0.00009608651950327792,
          0.00009706699419208689
         ],
         "xaxis": "x",
         "y": [
          0.1075,
          0.1075,
          0.1075,
          0.1075,
          0.1084,
          0.1093,
          0.1105,
          0.1127,
          0.1142,
          0.1153,
          0.1163,
          0.1178,
          0.12,
          0.1208,
          0.1223,
          0.1235,
          0.1246,
          0.1246,
          0.1255,
          0.1263,
          0.1277,
          0.129,
          0.1299,
          0.1297,
          0.1305,
          0.1314,
          0.1315,
          0.131,
          0.1321,
          0.1342,
          0.134,
          0.1345,
          0.1353,
          0.1358,
          0.1356,
          0.1362,
          0.1363,
          0.1362,
          0.1359,
          0.1363,
          0.1365,
          0.1368,
          0.1373,
          0.1384,
          0.1382,
          0.138,
          0.1383,
          0.1383,
          0.1392,
          0.1387,
          0.1384,
          0.1384,
          0.1384,
          0.1388,
          0.1387,
          0.139,
          0.1389,
          0.1384,
          0.1379,
          0.1384,
          0.1378,
          0.1383,
          0.1383,
          0.1375,
          0.1372,
          0.1376,
          0.1373,
          0.1371,
          0.1368,
          0.1365,
          0.1361,
          0.1359,
          0.1357,
          0.135,
          0.1343,
          0.1339,
          0.1327,
          0.1323,
          0.1327,
          0.1326,
          0.1328,
          0.1327,
          0.1324,
          0.1323,
          0.1312,
          0.1309,
          0.1305,
          0.1296,
          0.1289,
          0.1283,
          0.1279,
          0.1273,
          0.1267,
          0.1261,
          0.1256,
          0.1254,
          0.126,
          0.1257,
          0.1256,
          0.1255
         ],
         "yaxis": "y"
        },
        {
         "fillpattern": {
          "shape": ""
         },
         "hovertemplate": "state=3<br>time=%{x}<br>percentage=%{y}<extra></extra>",
         "legendgroup": "3",
         "line": {
          "color": "#ab63fa"
         },
         "marker": {
          "symbol": "circle"
         },
         "mode": "lines",
         "name": "3",
         "orientation": "v",
         "showlegend": true,
         "stackgroup": "1",
         "type": "scatter",
         "x": [
          0,
          9.804746888089584e-7,
          0.000001960949377617917,
          0.000002941424066426875,
          0.000003921898755235834,
          0.0000049023734440447925,
          0.00000588284813285375,
          0.000006863322821662709,
          0.000007843797510471668,
          0.000008824272199280626,
          0.000009804746888089585,
          0.000010785221576898544,
          0.0000117656962657075,
          0.00001274617095451646,
          0.000013726645643325418,
          0.000014707120332134377,
          0.000015687595020943335,
          0.000016668069709752294,
          0.000017648544398561253,
          0.00001862901908737021,
          0.00001960949377617917,
          0.00002058996846498813,
          0.000021570443153797087,
          0.000022550917842606046,
          0.000023531392531415,
          0.00002451186722022396,
          0.00002549234190903292,
          0.000026472816597841877,
          0.000027453291286650836,
          0.000028433765975459794,
          0.000029414240664268753,
          0.000030394715353077712,
          0.00003137519004188667,
          0.00003235566473069563,
          0.00003333613941950459,
          0.000034316614108313546,
          0.000035297088797122505,
          0.000036277563485931464,
          0.00003725803817474042,
          0.00003823851286354938,
          0.00003921898755235834,
          0.0000401994622411673,
          0.00004117993692997626,
          0.000042160411618785216,
          0.000043140886307594174,
          0.00004412136099640313,
          0.00004510183568521209,
          0.00004608231037402105,
          0.00004706278506283,
          0.00004804325975163896,
          0.00004902373444044792,
          0.00005000420912925688,
          0.00005098468381806584,
          0.000051965158506874795,
          0.000052945633195683754,
          0.00005392610788449271,
          0.00005490658257330167,
          0.00005588705726211063,
          0.00005686753195091959,
          0.00005784800663972855,
          0.000058828481328537506,
          0.000059808956017346465,
          0.000060789430706155423,
          0.00006176990539496439,
          0.00006275038008377334,
          0.00006373085477258229,
          0.00006471132946139126,
          0.00006569180415020021,
          0.00006667227883900918,
          0.00006765275352781813,
          0.00006863322821662709,
          0.00006961370290543604,
          0.00007059417759424501,
          0.00007157465228305396,
          0.00007255512697186293,
          0.00007353560166067188,
          0.00007451607634948084,
          0.0000754965510382898,
          0.00007647702572709876,
          0.00007745750041590771,
          0.00007843797510471668,
          0.00007941844979352563,
          0.0000803989244823346,
          0.00008137939917114355,
          0.00008235987385995251,
          0.00008334034854876147,
          0.00008432082323757043,
          0.00008530129792637938,
          0.00008628177261518835,
          0.0000872622473039973,
          0.00008824272199280627,
          0.00008922319668161522,
          0.00009020367137042418,
          0.00009118414605923314,
          0.0000921646207480421,
          0.00009314509543685105,
          0.00009412557012566,
          0.00009510604481446897,
          0.00009608651950327792,
          0.00009706699419208689
         ],
         "xaxis": "x",
         "y": [
          0.1099,
          0.1099,
          0.1099,
          0.1099,
          0.1094,
          0.1091,
          0.1091,
          0.109,
          0.109,
          0.1088,
          0.1087,
          0.1083,
          0.1081,
          0.1079,
          0.1073,
          0.1071,
          0.107,
          0.1067,
          0.1066,
          0.1063,
          0.1063,
          0.1062,
          0.1058,
          0.1057,
          0.1056,
          0.1052,
          0.105,
          0.1048,
          0.1047,
          0.1046,
          0.1043,
          0.1043,
          0.1042,
          0.104,
          0.1037,
          0.1036,
          0.1034,
          0.1034,
          0.1031,
          0.1028,
          0.1025,
          0.1023,
          0.102,
          0.1015,
          0.1014,
          0.1014,
          0.1013,
          0.1011,
          0.1009,
          0.1009,
          0.1008,
          0.1005,
          0.1005,
          0.1003,
          0.1,
          0.1,
          0.0999,
          0.0998,
          0.0996,
          0.0993,
          0.0992,
          0.0992,
          0.0989,
          0.0989,
          0.0989,
          0.0988,
          0.0985,
          0.0984,
          0.098,
          0.0978,
          0.0974,
          0.0972,
          0.0972,
          0.0969,
          0.0969,
          0.0968,
          0.0966,
          0.0964,
          0.096,
          0.096,
          0.0955,
          0.0953,
          0.0951,
          0.095,
          0.095,
          0.0948,
          0.0946,
          0.0946,
          0.0944,
          0.0942,
          0.094,
          0.0938,
          0.0938,
          0.0936,
          0.0933,
          0.0927,
          0.0926,
          0.0922,
          0.0921,
          0.092
         ],
         "yaxis": "y"
        },
        {
         "fillpattern": {
          "shape": ""
         },
         "hovertemplate": "state=4<br>time=%{x}<br>percentage=%{y}<extra></extra>",
         "legendgroup": "4",
         "line": {
          "color": "#FFA15A"
         },
         "marker": {
          "symbol": "circle"
         },
         "mode": "lines",
         "name": "4",
         "orientation": "v",
         "showlegend": true,
         "stackgroup": "1",
         "type": "scatter",
         "x": [
          0,
          9.804746888089584e-7,
          0.000001960949377617917,
          0.000002941424066426875,
          0.000003921898755235834,
          0.0000049023734440447925,
          0.00000588284813285375,
          0.000006863322821662709,
          0.000007843797510471668,
          0.000008824272199280626,
          0.000009804746888089585,
          0.000010785221576898544,
          0.0000117656962657075,
          0.00001274617095451646,
          0.000013726645643325418,
          0.000014707120332134377,
          0.000015687595020943335,
          0.000016668069709752294,
          0.000017648544398561253,
          0.00001862901908737021,
          0.00001960949377617917,
          0.00002058996846498813,
          0.000021570443153797087,
          0.000022550917842606046,
          0.000023531392531415,
          0.00002451186722022396,
          0.00002549234190903292,
          0.000026472816597841877,
          0.000027453291286650836,
          0.000028433765975459794,
          0.000029414240664268753,
          0.000030394715353077712,
          0.00003137519004188667,
          0.00003235566473069563,
          0.00003333613941950459,
          0.000034316614108313546,
          0.000035297088797122505,
          0.000036277563485931464,
          0.00003725803817474042,
          0.00003823851286354938,
          0.00003921898755235834,
          0.0000401994622411673,
          0.00004117993692997626,
          0.000042160411618785216,
          0.000043140886307594174,
          0.00004412136099640313,
          0.00004510183568521209,
          0.00004608231037402105,
          0.00004706278506283,
          0.00004804325975163896,
          0.00004902373444044792,
          0.00005000420912925688,
          0.00005098468381806584,
          0.000051965158506874795,
          0.000052945633195683754,
          0.00005392610788449271,
          0.00005490658257330167,
          0.00005588705726211063,
          0.00005686753195091959,
          0.00005784800663972855,
          0.000058828481328537506,
          0.000059808956017346465,
          0.000060789430706155423,
          0.00006176990539496439,
          0.00006275038008377334,
          0.00006373085477258229,
          0.00006471132946139126,
          0.00006569180415020021,
          0.00006667227883900918,
          0.00006765275352781813,
          0.00006863322821662709,
          0.00006961370290543604,
          0.00007059417759424501,
          0.00007157465228305396,
          0.00007255512697186293,
          0.00007353560166067188,
          0.00007451607634948084,
          0.0000754965510382898,
          0.00007647702572709876,
          0.00007745750041590771,
          0.00007843797510471668,
          0.00007941844979352563,
          0.0000803989244823346,
          0.00008137939917114355,
          0.00008235987385995251,
          0.00008334034854876147,
          0.00008432082323757043,
          0.00008530129792637938,
          0.00008628177261518835,
          0.0000872622473039973,
          0.00008824272199280627,
          0.00008922319668161522,
          0.00009020367137042418,
          0.00009118414605923314,
          0.0000921646207480421,
          0.00009314509543685105,
          0.00009412557012566,
          0.00009510604481446897,
          0.00009608651950327792,
          0.00009706699419208689
         ],
         "xaxis": "x",
         "y": [
          0.1096,
          0.1096,
          0.1096,
          0.1096,
          0.1096,
          0.1096,
          0.1096,
          0.1096,
          0.1096,
          0.1096,
          0.1096,
          0.1096,
          0.1096,
          0.1096,
          0.1096,
          0.1096,
          0.1096,
          0.1096,
          0.1096,
          0.1096,
          0.1096,
          0.1096,
          0.1096,
          0.1096,
          0.1095,
          0.1095,
          0.1095,
          0.1095,
          0.1094,
          0.1092,
          0.1092,
          0.1092,
          0.1091,
          0.1091,
          0.1091,
          0.1091,
          0.1091,
          0.1091,
          0.1091,
          0.1091,
          0.109,
          0.109,
          0.109,
          0.109,
          0.1089,
          0.1089,
          0.1089,
          0.1089,
          0.1088,
          0.1088,
          0.1088,
          0.1088,
          0.1088,
          0.1087,
          0.1087,
          0.1087,
          0.1087,
          0.1087,
          0.1087,
          0.1087,
          0.1087,
          0.1087,
          0.1087,
          0.1087,
          0.1087,
          0.1087,
          0.1087,
          0.1087,
          0.1087,
          0.1087,
          0.1087,
          0.1087,
          0.1087,
          0.1086,
          0.1086,
          0.1086,
          0.1086,
          0.1086,
          0.1085,
          0.1085,
          0.1084,
          0.1084,
          0.1084,
          0.1084,
          0.1084,
          0.1084,
          0.1083,
          0.1083,
          0.1083,
          0.1083,
          0.1083,
          0.1083,
          0.1083,
          0.1083,
          0.1083,
          0.1083,
          0.1082,
          0.1082,
          0.1082,
          0.1082
         ],
         "yaxis": "y"
        },
        {
         "fillpattern": {
          "shape": ""
         },
         "hovertemplate": "state=5<br>time=%{x}<br>percentage=%{y}<extra></extra>",
         "legendgroup": "5",
         "line": {
          "color": "#19d3f3"
         },
         "marker": {
          "symbol": "circle"
         },
         "mode": "lines",
         "name": "5",
         "orientation": "v",
         "showlegend": true,
         "stackgroup": "1",
         "type": "scatter",
         "x": [
          0,
          9.804746888089584e-7,
          0.000001960949377617917,
          0.000002941424066426875,
          0.000003921898755235834,
          0.0000049023734440447925,
          0.00000588284813285375,
          0.000006863322821662709,
          0.000007843797510471668,
          0.000008824272199280626,
          0.000009804746888089585,
          0.000010785221576898544,
          0.0000117656962657075,
          0.00001274617095451646,
          0.000013726645643325418,
          0.000014707120332134377,
          0.000015687595020943335,
          0.000016668069709752294,
          0.000017648544398561253,
          0.00001862901908737021,
          0.00001960949377617917,
          0.00002058996846498813,
          0.000021570443153797087,
          0.000022550917842606046,
          0.000023531392531415,
          0.00002451186722022396,
          0.00002549234190903292,
          0.000026472816597841877,
          0.000027453291286650836,
          0.000028433765975459794,
          0.000029414240664268753,
          0.000030394715353077712,
          0.00003137519004188667,
          0.00003235566473069563,
          0.00003333613941950459,
          0.000034316614108313546,
          0.000035297088797122505,
          0.000036277563485931464,
          0.00003725803817474042,
          0.00003823851286354938,
          0.00003921898755235834,
          0.0000401994622411673,
          0.00004117993692997626,
          0.000042160411618785216,
          0.000043140886307594174,
          0.00004412136099640313,
          0.00004510183568521209,
          0.00004608231037402105,
          0.00004706278506283,
          0.00004804325975163896,
          0.00004902373444044792,
          0.00005000420912925688,
          0.00005098468381806584,
          0.000051965158506874795,
          0.000052945633195683754,
          0.00005392610788449271,
          0.00005490658257330167,
          0.00005588705726211063,
          0.00005686753195091959,
          0.00005784800663972855,
          0.000058828481328537506,
          0.000059808956017346465,
          0.000060789430706155423,
          0.00006176990539496439,
          0.00006275038008377334,
          0.00006373085477258229,
          0.00006471132946139126,
          0.00006569180415020021,
          0.00006667227883900918,
          0.00006765275352781813,
          0.00006863322821662709,
          0.00006961370290543604,
          0.00007059417759424501,
          0.00007157465228305396,
          0.00007255512697186293,
          0.00007353560166067188,
          0.00007451607634948084,
          0.0000754965510382898,
          0.00007647702572709876,
          0.00007745750041590771,
          0.00007843797510471668,
          0.00007941844979352563,
          0.0000803989244823346,
          0.00008137939917114355,
          0.00008235987385995251,
          0.00008334034854876147,
          0.00008432082323757043,
          0.00008530129792637938,
          0.00008628177261518835,
          0.0000872622473039973,
          0.00008824272199280627,
          0.00008922319668161522,
          0.00009020367137042418,
          0.00009118414605923314,
          0.0000921646207480421,
          0.00009314509543685105,
          0.00009412557012566,
          0.00009510604481446897,
          0.00009608651950327792,
          0.00009706699419208689
         ],
         "xaxis": "x",
         "y": [
          0.1087,
          0.1087,
          0.1087,
          0.1087,
          0.1072,
          0.1053,
          0.1038,
          0.1013,
          0.0989,
          0.0972,
          0.0955,
          0.0931,
          0.0902,
          0.0887,
          0.0867,
          0.085,
          0.0834,
          0.0824,
          0.0811,
          0.0796,
          0.0778,
          0.0755,
          0.0735,
          0.0729,
          0.0713,
          0.0699,
          0.0689,
          0.0678,
          0.0665,
          0.0643,
          0.0637,
          0.0624,
          0.0614,
          0.0606,
          0.0595,
          0.058,
          0.0568,
          0.056,
          0.0551,
          0.0541,
          0.0532,
          0.0524,
          0.0504,
          0.049,
          0.0484,
          0.0478,
          0.0469,
          0.0462,
          0.0452,
          0.0443,
          0.0437,
          0.043,
          0.043,
          0.0415,
          0.0409,
          0.0402,
          0.0394,
          0.0387,
          0.0387,
          0.0375,
          0.0372,
          0.0362,
          0.0351,
          0.0349,
          0.0343,
          0.0334,
          0.0328,
          0.0321,
          0.0315,
          0.0311,
          0.0306,
          0.0298,
          0.0294,
          0.0293,
          0.0291,
          0.0288,
          0.0285,
          0.0277,
          0.0269,
          0.0263,
          0.0256,
          0.0252,
          0.0249,
          0.0243,
          0.0243,
          0.0237,
          0.0234,
          0.0234,
          0.0232,
          0.0224,
          0.0222,
          0.0218,
          0.0215,
          0.0213,
          0.021,
          0.0206,
          0.0199,
          0.0196,
          0.019,
          0.0186
         ],
         "yaxis": "y"
        },
        {
         "fillpattern": {
          "shape": ""
         },
         "hovertemplate": "state=6<br>time=%{x}<br>percentage=%{y}<extra></extra>",
         "legendgroup": "6",
         "line": {
          "color": "#FF6692"
         },
         "marker": {
          "symbol": "circle"
         },
         "mode": "lines",
         "name": "6",
         "orientation": "v",
         "showlegend": true,
         "stackgroup": "1",
         "type": "scatter",
         "x": [
          0,
          9.804746888089584e-7,
          0.000001960949377617917,
          0.000002941424066426875,
          0.000003921898755235834,
          0.0000049023734440447925,
          0.00000588284813285375,
          0.000006863322821662709,
          0.000007843797510471668,
          0.000008824272199280626,
          0.000009804746888089585,
          0.000010785221576898544,
          0.0000117656962657075,
          0.00001274617095451646,
          0.000013726645643325418,
          0.000014707120332134377,
          0.000015687595020943335,
          0.000016668069709752294,
          0.000017648544398561253,
          0.00001862901908737021,
          0.00001960949377617917,
          0.00002058996846498813,
          0.000021570443153797087,
          0.000022550917842606046,
          0.000023531392531415,
          0.00002451186722022396,
          0.00002549234190903292,
          0.000026472816597841877,
          0.000027453291286650836,
          0.000028433765975459794,
          0.000029414240664268753,
          0.000030394715353077712,
          0.00003137519004188667,
          0.00003235566473069563,
          0.00003333613941950459,
          0.000034316614108313546,
          0.000035297088797122505,
          0.000036277563485931464,
          0.00003725803817474042,
          0.00003823851286354938,
          0.00003921898755235834,
          0.0000401994622411673,
          0.00004117993692997626,
          0.000042160411618785216,
          0.000043140886307594174,
          0.00004412136099640313,
          0.00004510183568521209,
          0.00004608231037402105,
          0.00004706278506283,
          0.00004804325975163896,
          0.00004902373444044792,
          0.00005000420912925688,
          0.00005098468381806584,
          0.000051965158506874795,
          0.000052945633195683754,
          0.00005392610788449271,
          0.00005490658257330167,
          0.00005588705726211063,
          0.00005686753195091959,
          0.00005784800663972855,
          0.000058828481328537506,
          0.000059808956017346465,
          0.000060789430706155423,
          0.00006176990539496439,
          0.00006275038008377334,
          0.00006373085477258229,
          0.00006471132946139126,
          0.00006569180415020021,
          0.00006667227883900918,
          0.00006765275352781813,
          0.00006863322821662709,
          0.00006961370290543604,
          0.00007059417759424501,
          0.00007157465228305396,
          0.00007255512697186293,
          0.00007353560166067188,
          0.00007451607634948084,
          0.0000754965510382898,
          0.00007647702572709876,
          0.00007745750041590771,
          0.00007843797510471668,
          0.00007941844979352563,
          0.0000803989244823346,
          0.00008137939917114355,
          0.00008235987385995251,
          0.00008334034854876147,
          0.00008432082323757043,
          0.00008530129792637938,
          0.00008628177261518835,
          0.0000872622473039973,
          0.00008824272199280627,
          0.00008922319668161522,
          0.00009020367137042418,
          0.00009118414605923314,
          0.0000921646207480421,
          0.00009314509543685105,
          0.00009412557012566,
          0.00009510604481446897,
          0.00009608651950327792,
          0.00009706699419208689
         ],
         "xaxis": "x",
         "y": [
          0.1077,
          0.1077,
          0.1077,
          0.1077,
          0.1075,
          0.1073,
          0.107,
          0.1067,
          0.1064,
          0.1062,
          0.106,
          0.1057,
          0.1056,
          0.1055,
          0.1053,
          0.1051,
          0.1049,
          0.1045,
          0.1044,
          0.1044,
          0.104,
          0.1039,
          0.1038,
          0.1036,
          0.1034,
          0.1031,
          0.103,
          0.1027,
          0.1026,
          0.1026,
          0.1022,
          0.1019,
          0.1019,
          0.1018,
          0.1017,
          0.1016,
          0.1016,
          0.1016,
          0.1015,
          0.1014,
          0.1013,
          0.1012,
          0.1005,
          0.1005,
          0.1003,
          0.1002,
          0.1002,
          0.0999,
          0.0996,
          0.0993,
          0.0991,
          0.0989,
          0.0989,
          0.0987,
          0.0987,
          0.0985,
          0.0983,
          0.0983,
          0.0982,
          0.098,
          0.0976,
          0.0975,
          0.0969,
          0.0966,
          0.0966,
          0.0964,
          0.0961,
          0.0959,
          0.0958,
          0.0957,
          0.0955,
          0.0954,
          0.0951,
          0.095,
          0.0949,
          0.0947,
          0.0943,
          0.0943,
          0.0943,
          0.0941,
          0.0939,
          0.0938,
          0.0937,
          0.0934,
          0.0933,
          0.0929,
          0.0928,
          0.0927,
          0.0926,
          0.0923,
          0.0921,
          0.092,
          0.0919,
          0.0918,
          0.0917,
          0.0917,
          0.0917,
          0.0916,
          0.0915,
          0.0912
         ],
         "yaxis": "y"
        },
        {
         "fillpattern": {
          "shape": ""
         },
         "hovertemplate": "state=7<br>time=%{x}<br>percentage=%{y}<extra></extra>",
         "legendgroup": "7",
         "line": {
          "color": "#B6E880"
         },
         "marker": {
          "symbol": "circle"
         },
         "mode": "lines",
         "name": "7",
         "orientation": "v",
         "showlegend": true,
         "stackgroup": "1",
         "type": "scatter",
         "x": [
          0,
          9.804746888089584e-7,
          0.000001960949377617917,
          0.000002941424066426875,
          0.000003921898755235834,
          0.0000049023734440447925,
          0.00000588284813285375,
          0.000006863322821662709,
          0.000007843797510471668,
          0.000008824272199280626,
          0.000009804746888089585,
          0.000010785221576898544,
          0.0000117656962657075,
          0.00001274617095451646,
          0.000013726645643325418,
          0.000014707120332134377,
          0.000015687595020943335,
          0.000016668069709752294,
          0.000017648544398561253,
          0.00001862901908737021,
          0.00001960949377617917,
          0.00002058996846498813,
          0.000021570443153797087,
          0.000022550917842606046,
          0.000023531392531415,
          0.00002451186722022396,
          0.00002549234190903292,
          0.000026472816597841877,
          0.000027453291286650836,
          0.000028433765975459794,
          0.000029414240664268753,
          0.000030394715353077712,
          0.00003137519004188667,
          0.00003235566473069563,
          0.00003333613941950459,
          0.000034316614108313546,
          0.000035297088797122505,
          0.000036277563485931464,
          0.00003725803817474042,
          0.00003823851286354938,
          0.00003921898755235834,
          0.0000401994622411673,
          0.00004117993692997626,
          0.000042160411618785216,
          0.000043140886307594174,
          0.00004412136099640313,
          0.00004510183568521209,
          0.00004608231037402105,
          0.00004706278506283,
          0.00004804325975163896,
          0.00004902373444044792,
          0.00005000420912925688,
          0.00005098468381806584,
          0.000051965158506874795,
          0.000052945633195683754,
          0.00005392610788449271,
          0.00005490658257330167,
          0.00005588705726211063,
          0.00005686753195091959,
          0.00005784800663972855,
          0.000058828481328537506,
          0.000059808956017346465,
          0.000060789430706155423,
          0.00006176990539496439,
          0.00006275038008377334,
          0.00006373085477258229,
          0.00006471132946139126,
          0.00006569180415020021,
          0.00006667227883900918,
          0.00006765275352781813,
          0.00006863322821662709,
          0.00006961370290543604,
          0.00007059417759424501,
          0.00007157465228305396,
          0.00007255512697186293,
          0.00007353560166067188,
          0.00007451607634948084,
          0.0000754965510382898,
          0.00007647702572709876,
          0.00007745750041590771,
          0.00007843797510471668,
          0.00007941844979352563,
          0.0000803989244823346,
          0.00008137939917114355,
          0.00008235987385995251,
          0.00008334034854876147,
          0.00008432082323757043,
          0.00008530129792637938,
          0.00008628177261518835,
          0.0000872622473039973,
          0.00008824272199280627,
          0.00008922319668161522,
          0.00009020367137042418,
          0.00009118414605923314,
          0.0000921646207480421,
          0.00009314509543685105,
          0.00009412557012566,
          0.00009510604481446897,
          0.00009608651950327792,
          0.00009706699419208689
         ],
         "xaxis": "x",
         "y": [
          0.1124,
          0.1124,
          0.1124,
          0.1124,
          0.2245,
          0.2245,
          0.2245,
          0.2245,
          0.2245,
          0.2245,
          0.2245,
          0.2245,
          0.2245,
          0.2245,
          0.2245,
          0.2245,
          0.2245,
          0.2245,
          0.2245,
          0.2245,
          0.2245,
          0.2245,
          0.2245,
          0.2245,
          0.2245,
          0.2245,
          0.2245,
          0.2245,
          0.2245,
          0.2245,
          0.2245,
          0.2245,
          0.2245,
          0.2245,
          0.2245,
          0.2245,
          0.2245,
          0.2245,
          0.2245,
          0.2245,
          0.2245,
          0.2245,
          0.2245,
          0.2245,
          0.2245,
          0.2245,
          0.2245,
          0.2245,
          0.2245,
          0.2245,
          0.2245,
          0.2245,
          0.2245,
          0.2245,
          0.2245,
          0.2245,
          0.2245,
          0.2245,
          0.2245,
          0.2245,
          0.2245,
          0.2245,
          0.2245,
          0.2245,
          0.2244,
          0.2245,
          0.2245,
          0.2245,
          0.2245,
          0.2245,
          0.2245,
          0.2245,
          0.2245,
          0.2245,
          0.2245,
          0.2245,
          0.2245,
          0.2245,
          0.2245,
          0.2245,
          0.2245,
          0.2245,
          0.2245,
          0.2245,
          0.2245,
          0.2245,
          0.2245,
          0.2245,
          0.2245,
          0.2245,
          0.2245,
          0.2245,
          0.2245,
          0.2245,
          0.2245,
          0.2245,
          0.2245,
          0.2245,
          0.2245,
          0.2245
         ],
         "yaxis": "y"
        },
        {
         "fillpattern": {
          "shape": ""
         },
         "hovertemplate": "state=8<br>time=%{x}<br>percentage=%{y}<extra></extra>",
         "legendgroup": "8",
         "line": {
          "color": "#FF97FF"
         },
         "marker": {
          "symbol": "circle"
         },
         "mode": "lines",
         "name": "8",
         "orientation": "v",
         "showlegend": true,
         "stackgroup": "1",
         "type": "scatter",
         "x": [
          0,
          9.804746888089584e-7,
          0.000001960949377617917,
          0.000002941424066426875,
          0.000003921898755235834,
          0.0000049023734440447925,
          0.00000588284813285375,
          0.000006863322821662709,
          0.000007843797510471668,
          0.000008824272199280626,
          0.000009804746888089585,
          0.000010785221576898544,
          0.0000117656962657075,
          0.00001274617095451646,
          0.000013726645643325418,
          0.000014707120332134377,
          0.000015687595020943335,
          0.000016668069709752294,
          0.000017648544398561253,
          0.00001862901908737021,
          0.00001960949377617917,
          0.00002058996846498813,
          0.000021570443153797087,
          0.000022550917842606046,
          0.000023531392531415,
          0.00002451186722022396,
          0.00002549234190903292,
          0.000026472816597841877,
          0.000027453291286650836,
          0.000028433765975459794,
          0.000029414240664268753,
          0.000030394715353077712,
          0.00003137519004188667,
          0.00003235566473069563,
          0.00003333613941950459,
          0.000034316614108313546,
          0.000035297088797122505,
          0.000036277563485931464,
          0.00003725803817474042,
          0.00003823851286354938,
          0.00003921898755235834,
          0.0000401994622411673,
          0.00004117993692997626,
          0.000042160411618785216,
          0.000043140886307594174,
          0.00004412136099640313,
          0.00004510183568521209,
          0.00004608231037402105,
          0.00004706278506283,
          0.00004804325975163896,
          0.00004902373444044792,
          0.00005000420912925688,
          0.00005098468381806584,
          0.000051965158506874795,
          0.000052945633195683754,
          0.00005392610788449271,
          0.00005490658257330167,
          0.00005588705726211063,
          0.00005686753195091959,
          0.00005784800663972855,
          0.000058828481328537506,
          0.000059808956017346465,
          0.000060789430706155423,
          0.00006176990539496439,
          0.00006275038008377334,
          0.00006373085477258229,
          0.00006471132946139126,
          0.00006569180415020021,
          0.00006667227883900918,
          0.00006765275352781813,
          0.00006863322821662709,
          0.00006961370290543604,
          0.00007059417759424501,
          0.00007157465228305396,
          0.00007255512697186293,
          0.00007353560166067188,
          0.00007451607634948084,
          0.0000754965510382898,
          0.00007647702572709876,
          0.00007745750041590771,
          0.00007843797510471668,
          0.00007941844979352563,
          0.0000803989244823346,
          0.00008137939917114355,
          0.00008235987385995251,
          0.00008334034854876147,
          0.00008432082323757043,
          0.00008530129792637938,
          0.00008628177261518835,
          0.0000872622473039973,
          0.00008824272199280627,
          0.00008922319668161522,
          0.00009020367137042418,
          0.00009118414605923314,
          0.0000921646207480421,
          0.00009314509543685105,
          0.00009412557012566,
          0.00009510604481446897,
          0.00009608651950327792,
          0.00009706699419208689
         ],
         "xaxis": "x",
         "y": [
          0.1121,
          0.1121,
          0.1121,
          0.1121,
          0,
          0,
          0,
          0,
          0,
          0,
          0,
          0,
          0,
          0,
          0,
          0,
          0,
          0,
          0,
          0,
          0,
          0,
          0,
          0,
          0,
          0,
          0,
          0,
          0,
          0,
          0,
          0,
          0,
          0,
          0,
          0,
          0,
          0,
          0,
          0,
          0,
          0,
          0,
          0,
          0,
          0,
          0,
          0,
          0,
          0,
          0,
          0,
          0,
          0,
          0,
          0,
          0,
          0,
          0,
          0,
          0,
          0,
          0,
          0,
          0.0001,
          0,
          0,
          0,
          0,
          0,
          0,
          0,
          0,
          0,
          0,
          0,
          0,
          0,
          0,
          0,
          0,
          0,
          0,
          0,
          0,
          0,
          0,
          0,
          0,
          0,
          0,
          0,
          0,
          0,
          0,
          0,
          0,
          0,
          0,
          0
         ],
         "yaxis": "y"
        },
        {
         "fillpattern": {
          "shape": ""
         },
         "hovertemplate": "state=9<br>time=%{x}<br>percentage=%{y}<extra></extra>",
         "legendgroup": "9",
         "line": {
          "color": "#FECB52"
         },
         "marker": {
          "symbol": "circle"
         },
         "mode": "lines",
         "name": "9",
         "orientation": "v",
         "showlegend": true,
         "stackgroup": "1",
         "type": "scatter",
         "x": [
          0,
          9.804746888089584e-7,
          0.000001960949377617917,
          0.000002941424066426875,
          0.000003921898755235834,
          0.0000049023734440447925,
          0.00000588284813285375,
          0.000006863322821662709,
          0.000007843797510471668,
          0.000008824272199280626,
          0.000009804746888089585,
          0.000010785221576898544,
          0.0000117656962657075,
          0.00001274617095451646,
          0.000013726645643325418,
          0.000014707120332134377,
          0.000015687595020943335,
          0.000016668069709752294,
          0.000017648544398561253,
          0.00001862901908737021,
          0.00001960949377617917,
          0.00002058996846498813,
          0.000021570443153797087,
          0.000022550917842606046,
          0.000023531392531415,
          0.00002451186722022396,
          0.00002549234190903292,
          0.000026472816597841877,
          0.000027453291286650836,
          0.000028433765975459794,
          0.000029414240664268753,
          0.000030394715353077712,
          0.00003137519004188667,
          0.00003235566473069563,
          0.00003333613941950459,
          0.000034316614108313546,
          0.000035297088797122505,
          0.000036277563485931464,
          0.00003725803817474042,
          0.00003823851286354938,
          0.00003921898755235834,
          0.0000401994622411673,
          0.00004117993692997626,
          0.000042160411618785216,
          0.000043140886307594174,
          0.00004412136099640313,
          0.00004510183568521209,
          0.00004608231037402105,
          0.00004706278506283,
          0.00004804325975163896,
          0.00004902373444044792,
          0.00005000420912925688,
          0.00005098468381806584,
          0.000051965158506874795,
          0.000052945633195683754,
          0.00005392610788449271,
          0.00005490658257330167,
          0.00005588705726211063,
          0.00005686753195091959,
          0.00005784800663972855,
          0.000058828481328537506,
          0.000059808956017346465,
          0.000060789430706155423,
          0.00006176990539496439,
          0.00006275038008377334,
          0.00006373085477258229,
          0.00006471132946139126,
          0.00006569180415020021,
          0.00006667227883900918,
          0.00006765275352781813,
          0.00006863322821662709,
          0.00006961370290543604,
          0.00007059417759424501,
          0.00007157465228305396,
          0.00007255512697186293,
          0.00007353560166067188,
          0.00007451607634948084,
          0.0000754965510382898,
          0.00007647702572709876,
          0.00007745750041590771,
          0.00007843797510471668,
          0.00007941844979352563,
          0.0000803989244823346,
          0.00008137939917114355,
          0.00008235987385995251,
          0.00008334034854876147,
          0.00008432082323757043,
          0.00008530129792637938,
          0.00008628177261518835,
          0.0000872622473039973,
          0.00008824272199280627,
          0.00008922319668161522,
          0.00009020367137042418,
          0.00009118414605923314,
          0.0000921646207480421,
          0.00009314509543685105,
          0.00009412557012566,
          0.00009510604481446897,
          0.00009608651950327792,
          0.00009706699419208689
         ],
         "xaxis": "x",
         "y": [
          0,
          0,
          0,
          0,
          0,
          0,
          0,
          0,
          0,
          0,
          0,
          0,
          0,
          0,
          0,
          0,
          0,
          0,
          0,
          0,
          0,
          0,
          0,
          0,
          0,
          0,
          0,
          0,
          0,
          0,
          0,
          0,
          0,
          0,
          0,
          0,
          0,
          0,
          0,
          0,
          0,
          0,
          0,
          0,
          0,
          0,
          0,
          0,
          0,
          0,
          0,
          0,
          0,
          0,
          0,
          0,
          0,
          0,
          0,
          0,
          0,
          0,
          0,
          0,
          0,
          0,
          0,
          0,
          0,
          0,
          0,
          0,
          0,
          0,
          0,
          0,
          0,
          0,
          0,
          0,
          0,
          0,
          0,
          0,
          0,
          0,
          0,
          0,
          0,
          0,
          0,
          0,
          0,
          0,
          0,
          0,
          0,
          0,
          0,
          0
         ],
         "yaxis": "y"
        }
       ],
       "layout": {
        "legend": {
         "title": {
          "text": "state"
         },
         "tracegroupgap": 0
        },
        "margin": {
         "t": 60
        },
        "showlegend": true,
        "template": {
         "data": {
          "bar": [
           {
            "error_x": {
             "color": "#2a3f5f"
            },
            "error_y": {
             "color": "#2a3f5f"
            },
            "marker": {
             "line": {
              "color": "#E5ECF6",
              "width": 0.5
             },
             "pattern": {
              "fillmode": "overlay",
              "size": 10,
              "solidity": 0.2
             }
            },
            "type": "bar"
           }
          ],
          "barpolar": [
           {
            "marker": {
             "line": {
              "color": "#E5ECF6",
              "width": 0.5
             },
             "pattern": {
              "fillmode": "overlay",
              "size": 10,
              "solidity": 0.2
             }
            },
            "type": "barpolar"
           }
          ],
          "carpet": [
           {
            "aaxis": {
             "endlinecolor": "#2a3f5f",
             "gridcolor": "white",
             "linecolor": "white",
             "minorgridcolor": "white",
             "startlinecolor": "#2a3f5f"
            },
            "baxis": {
             "endlinecolor": "#2a3f5f",
             "gridcolor": "white",
             "linecolor": "white",
             "minorgridcolor": "white",
             "startlinecolor": "#2a3f5f"
            },
            "type": "carpet"
           }
          ],
          "choropleth": [
           {
            "colorbar": {
             "outlinewidth": 0,
             "ticks": ""
            },
            "type": "choropleth"
           }
          ],
          "contour": [
           {
            "colorbar": {
             "outlinewidth": 0,
             "ticks": ""
            },
            "colorscale": [
             [
              0,
              "#0d0887"
             ],
             [
              0.1111111111111111,
              "#46039f"
             ],
             [
              0.2222222222222222,
              "#7201a8"
             ],
             [
              0.3333333333333333,
              "#9c179e"
             ],
             [
              0.4444444444444444,
              "#bd3786"
             ],
             [
              0.5555555555555556,
              "#d8576b"
             ],
             [
              0.6666666666666666,
              "#ed7953"
             ],
             [
              0.7777777777777778,
              "#fb9f3a"
             ],
             [
              0.8888888888888888,
              "#fdca26"
             ],
             [
              1,
              "#f0f921"
             ]
            ],
            "type": "contour"
           }
          ],
          "contourcarpet": [
           {
            "colorbar": {
             "outlinewidth": 0,
             "ticks": ""
            },
            "type": "contourcarpet"
           }
          ],
          "heatmap": [
           {
            "colorbar": {
             "outlinewidth": 0,
             "ticks": ""
            },
            "colorscale": [
             [
              0,
              "#0d0887"
             ],
             [
              0.1111111111111111,
              "#46039f"
             ],
             [
              0.2222222222222222,
              "#7201a8"
             ],
             [
              0.3333333333333333,
              "#9c179e"
             ],
             [
              0.4444444444444444,
              "#bd3786"
             ],
             [
              0.5555555555555556,
              "#d8576b"
             ],
             [
              0.6666666666666666,
              "#ed7953"
             ],
             [
              0.7777777777777778,
              "#fb9f3a"
             ],
             [
              0.8888888888888888,
              "#fdca26"
             ],
             [
              1,
              "#f0f921"
             ]
            ],
            "type": "heatmap"
           }
          ],
          "heatmapgl": [
           {
            "colorbar": {
             "outlinewidth": 0,
             "ticks": ""
            },
            "colorscale": [
             [
              0,
              "#0d0887"
             ],
             [
              0.1111111111111111,
              "#46039f"
             ],
             [
              0.2222222222222222,
              "#7201a8"
             ],
             [
              0.3333333333333333,
              "#9c179e"
             ],
             [
              0.4444444444444444,
              "#bd3786"
             ],
             [
              0.5555555555555556,
              "#d8576b"
             ],
             [
              0.6666666666666666,
              "#ed7953"
             ],
             [
              0.7777777777777778,
              "#fb9f3a"
             ],
             [
              0.8888888888888888,
              "#fdca26"
             ],
             [
              1,
              "#f0f921"
             ]
            ],
            "type": "heatmapgl"
           }
          ],
          "histogram": [
           {
            "marker": {
             "pattern": {
              "fillmode": "overlay",
              "size": 10,
              "solidity": 0.2
             }
            },
            "type": "histogram"
           }
          ],
          "histogram2d": [
           {
            "colorbar": {
             "outlinewidth": 0,
             "ticks": ""
            },
            "colorscale": [
             [
              0,
              "#0d0887"
             ],
             [
              0.1111111111111111,
              "#46039f"
             ],
             [
              0.2222222222222222,
              "#7201a8"
             ],
             [
              0.3333333333333333,
              "#9c179e"
             ],
             [
              0.4444444444444444,
              "#bd3786"
             ],
             [
              0.5555555555555556,
              "#d8576b"
             ],
             [
              0.6666666666666666,
              "#ed7953"
             ],
             [
              0.7777777777777778,
              "#fb9f3a"
             ],
             [
              0.8888888888888888,
              "#fdca26"
             ],
             [
              1,
              "#f0f921"
             ]
            ],
            "type": "histogram2d"
           }
          ],
          "histogram2dcontour": [
           {
            "colorbar": {
             "outlinewidth": 0,
             "ticks": ""
            },
            "colorscale": [
             [
              0,
              "#0d0887"
             ],
             [
              0.1111111111111111,
              "#46039f"
             ],
             [
              0.2222222222222222,
              "#7201a8"
             ],
             [
              0.3333333333333333,
              "#9c179e"
             ],
             [
              0.4444444444444444,
              "#bd3786"
             ],
             [
              0.5555555555555556,
              "#d8576b"
             ],
             [
              0.6666666666666666,
              "#ed7953"
             ],
             [
              0.7777777777777778,
              "#fb9f3a"
             ],
             [
              0.8888888888888888,
              "#fdca26"
             ],
             [
              1,
              "#f0f921"
             ]
            ],
            "type": "histogram2dcontour"
           }
          ],
          "mesh3d": [
           {
            "colorbar": {
             "outlinewidth": 0,
             "ticks": ""
            },
            "type": "mesh3d"
           }
          ],
          "parcoords": [
           {
            "line": {
             "colorbar": {
              "outlinewidth": 0,
              "ticks": ""
             }
            },
            "type": "parcoords"
           }
          ],
          "pie": [
           {
            "automargin": true,
            "type": "pie"
           }
          ],
          "scatter": [
           {
            "fillpattern": {
             "fillmode": "overlay",
             "size": 10,
             "solidity": 0.2
            },
            "type": "scatter"
           }
          ],
          "scatter3d": [
           {
            "line": {
             "colorbar": {
              "outlinewidth": 0,
              "ticks": ""
             }
            },
            "marker": {
             "colorbar": {
              "outlinewidth": 0,
              "ticks": ""
             }
            },
            "type": "scatter3d"
           }
          ],
          "scattercarpet": [
           {
            "marker": {
             "colorbar": {
              "outlinewidth": 0,
              "ticks": ""
             }
            },
            "type": "scattercarpet"
           }
          ],
          "scattergeo": [
           {
            "marker": {
             "colorbar": {
              "outlinewidth": 0,
              "ticks": ""
             }
            },
            "type": "scattergeo"
           }
          ],
          "scattergl": [
           {
            "marker": {
             "colorbar": {
              "outlinewidth": 0,
              "ticks": ""
             }
            },
            "type": "scattergl"
           }
          ],
          "scattermapbox": [
           {
            "marker": {
             "colorbar": {
              "outlinewidth": 0,
              "ticks": ""
             }
            },
            "type": "scattermapbox"
           }
          ],
          "scatterpolar": [
           {
            "marker": {
             "colorbar": {
              "outlinewidth": 0,
              "ticks": ""
             }
            },
            "type": "scatterpolar"
           }
          ],
          "scatterpolargl": [
           {
            "marker": {
             "colorbar": {
              "outlinewidth": 0,
              "ticks": ""
             }
            },
            "type": "scatterpolargl"
           }
          ],
          "scatterternary": [
           {
            "marker": {
             "colorbar": {
              "outlinewidth": 0,
              "ticks": ""
             }
            },
            "type": "scatterternary"
           }
          ],
          "surface": [
           {
            "colorbar": {
             "outlinewidth": 0,
             "ticks": ""
            },
            "colorscale": [
             [
              0,
              "#0d0887"
             ],
             [
              0.1111111111111111,
              "#46039f"
             ],
             [
              0.2222222222222222,
              "#7201a8"
             ],
             [
              0.3333333333333333,
              "#9c179e"
             ],
             [
              0.4444444444444444,
              "#bd3786"
             ],
             [
              0.5555555555555556,
              "#d8576b"
             ],
             [
              0.6666666666666666,
              "#ed7953"
             ],
             [
              0.7777777777777778,
              "#fb9f3a"
             ],
             [
              0.8888888888888888,
              "#fdca26"
             ],
             [
              1,
              "#f0f921"
             ]
            ],
            "type": "surface"
           }
          ],
          "table": [
           {
            "cells": {
             "fill": {
              "color": "#EBF0F8"
             },
             "line": {
              "color": "white"
             }
            },
            "header": {
             "fill": {
              "color": "#C8D4E3"
             },
             "line": {
              "color": "white"
             }
            },
            "type": "table"
           }
          ]
         },
         "layout": {
          "annotationdefaults": {
           "arrowcolor": "#2a3f5f",
           "arrowhead": 0,
           "arrowwidth": 1
          },
          "autotypenumbers": "strict",
          "coloraxis": {
           "colorbar": {
            "outlinewidth": 0,
            "ticks": ""
           }
          },
          "colorscale": {
           "diverging": [
            [
             0,
             "#8e0152"
            ],
            [
             0.1,
             "#c51b7d"
            ],
            [
             0.2,
             "#de77ae"
            ],
            [
             0.3,
             "#f1b6da"
            ],
            [
             0.4,
             "#fde0ef"
            ],
            [
             0.5,
             "#f7f7f7"
            ],
            [
             0.6,
             "#e6f5d0"
            ],
            [
             0.7,
             "#b8e186"
            ],
            [
             0.8,
             "#7fbc41"
            ],
            [
             0.9,
             "#4d9221"
            ],
            [
             1,
             "#276419"
            ]
           ],
           "sequential": [
            [
             0,
             "#0d0887"
            ],
            [
             0.1111111111111111,
             "#46039f"
            ],
            [
             0.2222222222222222,
             "#7201a8"
            ],
            [
             0.3333333333333333,
             "#9c179e"
            ],
            [
             0.4444444444444444,
             "#bd3786"
            ],
            [
             0.5555555555555556,
             "#d8576b"
            ],
            [
             0.6666666666666666,
             "#ed7953"
            ],
            [
             0.7777777777777778,
             "#fb9f3a"
            ],
            [
             0.8888888888888888,
             "#fdca26"
            ],
            [
             1,
             "#f0f921"
            ]
           ],
           "sequentialminus": [
            [
             0,
             "#0d0887"
            ],
            [
             0.1111111111111111,
             "#46039f"
            ],
            [
             0.2222222222222222,
             "#7201a8"
            ],
            [
             0.3333333333333333,
             "#9c179e"
            ],
            [
             0.4444444444444444,
             "#bd3786"
            ],
            [
             0.5555555555555556,
             "#d8576b"
            ],
            [
             0.6666666666666666,
             "#ed7953"
            ],
            [
             0.7777777777777778,
             "#fb9f3a"
            ],
            [
             0.8888888888888888,
             "#fdca26"
            ],
            [
             1,
             "#f0f921"
            ]
           ]
          },
          "colorway": [
           "#636efa",
           "#EF553B",
           "#00cc96",
           "#ab63fa",
           "#FFA15A",
           "#19d3f3",
           "#FF6692",
           "#B6E880",
           "#FF97FF",
           "#FECB52"
          ],
          "font": {
           "color": "#2a3f5f"
          },
          "geo": {
           "bgcolor": "white",
           "lakecolor": "white",
           "landcolor": "#E5ECF6",
           "showlakes": true,
           "showland": true,
           "subunitcolor": "white"
          },
          "hoverlabel": {
           "align": "left"
          },
          "hovermode": "closest",
          "mapbox": {
           "style": "light"
          },
          "paper_bgcolor": "white",
          "plot_bgcolor": "#E5ECF6",
          "polar": {
           "angularaxis": {
            "gridcolor": "white",
            "linecolor": "white",
            "ticks": ""
           },
           "bgcolor": "#E5ECF6",
           "radialaxis": {
            "gridcolor": "white",
            "linecolor": "white",
            "ticks": ""
           }
          },
          "scene": {
           "xaxis": {
            "backgroundcolor": "#E5ECF6",
            "gridcolor": "white",
            "gridwidth": 2,
            "linecolor": "white",
            "showbackground": true,
            "ticks": "",
            "zerolinecolor": "white"
           },
           "yaxis": {
            "backgroundcolor": "#E5ECF6",
            "gridcolor": "white",
            "gridwidth": 2,
            "linecolor": "white",
            "showbackground": true,
            "ticks": "",
            "zerolinecolor": "white"
           },
           "zaxis": {
            "backgroundcolor": "#E5ECF6",
            "gridcolor": "white",
            "gridwidth": 2,
            "linecolor": "white",
            "showbackground": true,
            "ticks": "",
            "zerolinecolor": "white"
           }
          },
          "shapedefaults": {
           "line": {
            "color": "#2a3f5f"
           }
          },
          "ternary": {
           "aaxis": {
            "gridcolor": "white",
            "linecolor": "white",
            "ticks": ""
           },
           "baxis": {
            "gridcolor": "white",
            "linecolor": "white",
            "ticks": ""
           },
           "bgcolor": "#E5ECF6",
           "caxis": {
            "gridcolor": "white",
            "linecolor": "white",
            "ticks": ""
           }
          },
          "title": {
           "x": 0.05
          },
          "xaxis": {
           "automargin": true,
           "gridcolor": "white",
           "linecolor": "white",
           "ticks": "",
           "title": {
            "standoff": 15
           },
           "zerolinecolor": "white",
           "zerolinewidth": 2
          },
          "yaxis": {
           "automargin": true,
           "gridcolor": "white",
           "linecolor": "white",
           "ticks": "",
           "title": {
            "standoff": 15
           },
           "zerolinecolor": "white",
           "zerolinewidth": 2
          }
         }
        },
        "xaxis": {
         "anchor": "y",
         "domain": [
          0,
          1
         ],
         "range": [
          0,
          0.00009804746888089584
         ],
         "title": {
          "text": "time"
         }
        },
        "yaxis": {
         "anchor": "x",
         "domain": [
          0,
          1
         ],
         "range": [
          0,
          1
         ],
         "title": {
          "text": "percentage"
         }
        }
       }
      }
     },
     "metadata": {},
     "output_type": "display_data"
    }
   ],
   "source": [
    "kmc_boltz.plot_top_n_states_stacked(\n",
    "    n_show = -1,\n",
    "    resolution=None, \n",
    "    max_time=None, \n",
    "    title=None, \n",
    "    save=True, \n",
    "    save_name=\"props.png\") # -1 shows all states"
   ]
  },
  {
   "cell_type": "code",
   "execution_count": 13,
   "metadata": {},
   "outputs": [
    {
     "data": {
      "application/vnd.plotly.v1+json": {
       "config": {
        "plotlyServerURL": "https://plot.ly"
       },
       "data": [
        {
         "fillpattern": {
          "shape": ""
         },
         "hovertemplate": "state=0<br>time=%{x}<br>percentage=%{y}<extra></extra>",
         "legendgroup": "0",
         "line": {
          "color": "#636efa"
         },
         "marker": {
          "symbol": "circle"
         },
         "mode": "lines",
         "name": "0",
         "orientation": "v",
         "showlegend": true,
         "stackgroup": "1",
         "type": "scatter",
         "x": [
          0,
          9.804746888089584e-7,
          0.000001960949377617917,
          0.000002941424066426875,
          0.000003921898755235834,
          0.0000049023734440447925,
          0.00000588284813285375,
          0.000006863322821662709,
          0.000007843797510471668,
          0.000008824272199280626,
          0.000009804746888089585,
          0.000010785221576898544,
          0.0000117656962657075,
          0.00001274617095451646,
          0.000013726645643325418,
          0.000014707120332134377,
          0.000015687595020943335,
          0.000016668069709752294,
          0.000017648544398561253,
          0.00001862901908737021,
          0.00001960949377617917,
          0.00002058996846498813,
          0.000021570443153797087,
          0.000022550917842606046,
          0.000023531392531415,
          0.00002451186722022396,
          0.00002549234190903292,
          0.000026472816597841877,
          0.000027453291286650836,
          0.000028433765975459794,
          0.000029414240664268753,
          0.000030394715353077712,
          0.00003137519004188667,
          0.00003235566473069563,
          0.00003333613941950459,
          0.000034316614108313546,
          0.000035297088797122505,
          0.000036277563485931464,
          0.00003725803817474042,
          0.00003823851286354938,
          0.00003921898755235834,
          0.0000401994622411673,
          0.00004117993692997626,
          0.000042160411618785216,
          0.000043140886307594174,
          0.00004412136099640313,
          0.00004510183568521209,
          0.00004608231037402105,
          0.00004706278506283,
          0.00004804325975163896,
          0.00004902373444044792,
          0.00005000420912925688,
          0.00005098468381806584,
          0.000051965158506874795,
          0.000052945633195683754,
          0.00005392610788449271,
          0.00005490658257330167,
          0.00005588705726211063,
          0.00005686753195091959,
          0.00005784800663972855,
          0.000058828481328537506,
          0.000059808956017346465,
          0.000060789430706155423,
          0.00006176990539496439,
          0.00006275038008377334,
          0.00006373085477258229,
          0.00006471132946139126,
          0.00006569180415020021,
          0.00006667227883900918,
          0.00006765275352781813,
          0.00006863322821662709,
          0.00006961370290543604,
          0.00007059417759424501,
          0.00007157465228305396,
          0.00007255512697186293,
          0.00007353560166067188,
          0.00007451607634948084,
          0.0000754965510382898,
          0.00007647702572709876,
          0.00007745750041590771,
          0.00007843797510471668,
          0.00007941844979352563,
          0.0000803989244823346,
          0.00008137939917114355,
          0.00008235987385995251,
          0.00008334034854876147,
          0.00008432082323757043,
          0.00008530129792637938,
          0.00008628177261518835,
          0.0000872622473039973,
          0.00008824272199280627,
          0.00008922319668161522,
          0.00009020367137042418,
          0.00009118414605923314,
          0.0000921646207480421,
          0.00009314509543685105,
          0.00009412557012566,
          0.00009510604481446897,
          0.00009608651950327792,
          0.00009706699419208689
         ],
         "xaxis": "x",
         "y": [
          0.1137,
          0.1137,
          0.1137,
          0.1137,
          0.2106,
          0.2237,
          0.2277,
          0.2286,
          0.2297,
          0.2308,
          0.2316,
          0.2321,
          0.2355,
          0.2345,
          0.2369,
          0.2379,
          0.2377,
          0.2388,
          0.2415,
          0.2416,
          0.2431,
          0.2432,
          0.2437,
          0.2455,
          0.2472,
          0.2495,
          0.2496,
          0.2511,
          0.2519,
          0.2523,
          0.2535,
          0.2547,
          0.2563,
          0.257,
          0.2595,
          0.2589,
          0.2601,
          0.26,
          0.2622,
          0.2638,
          0.2639,
          0.2656,
          0.2687,
          0.2687,
          0.2697,
          0.2704,
          0.2711,
          0.2719,
          0.2743,
          0.2749,
          0.2759,
          0.2764,
          0.2764,
          0.2811,
          0.2803,
          0.2809,
          0.2821,
          0.2844,
          0.2822,
          0.2854,
          0.2866,
          0.2869,
          0.2872,
          0.2904,
          0.2913,
          0.2914,
          0.2915,
          0.2952,
          0.2965,
          0.2978,
          0.2997,
          0.2984,
          0.3013,
          0.3005,
          0.3018,
          0.3047,
          0.3047,
          0.3048,
          0.3063,
          0.3085,
          0.3099,
          0.3105,
          0.3114,
          0.3133,
          0.3119,
          0.3136,
          0.3158,
          0.3167,
          0.3165,
          0.3195,
          0.3197,
          0.321,
          0.3211,
          0.3248,
          0.3246,
          0.3264,
          0.328,
          0.3274,
          0.3276,
          0.3281
         ],
         "yaxis": "y"
        },
        {
         "fillpattern": {
          "shape": ""
         },
         "hovertemplate": "state=2<br>time=%{x}<br>percentage=%{y}<extra></extra>",
         "legendgroup": "2",
         "line": {
          "color": "#EF553B"
         },
         "marker": {
          "symbol": "circle"
         },
         "mode": "lines",
         "name": "2",
         "orientation": "v",
         "showlegend": true,
         "stackgroup": "1",
         "type": "scatter",
         "x": [
          0,
          9.804746888089584e-7,
          0.000001960949377617917,
          0.000002941424066426875,
          0.000003921898755235834,
          0.0000049023734440447925,
          0.00000588284813285375,
          0.000006863322821662709,
          0.000007843797510471668,
          0.000008824272199280626,
          0.000009804746888089585,
          0.000010785221576898544,
          0.0000117656962657075,
          0.00001274617095451646,
          0.000013726645643325418,
          0.000014707120332134377,
          0.000015687595020943335,
          0.000016668069709752294,
          0.000017648544398561253,
          0.00001862901908737021,
          0.00001960949377617917,
          0.00002058996846498813,
          0.000021570443153797087,
          0.000022550917842606046,
          0.000023531392531415,
          0.00002451186722022396,
          0.00002549234190903292,
          0.000026472816597841877,
          0.000027453291286650836,
          0.000028433765975459794,
          0.000029414240664268753,
          0.000030394715353077712,
          0.00003137519004188667,
          0.00003235566473069563,
          0.00003333613941950459,
          0.000034316614108313546,
          0.000035297088797122505,
          0.000036277563485931464,
          0.00003725803817474042,
          0.00003823851286354938,
          0.00003921898755235834,
          0.0000401994622411673,
          0.00004117993692997626,
          0.000042160411618785216,
          0.000043140886307594174,
          0.00004412136099640313,
          0.00004510183568521209,
          0.00004608231037402105,
          0.00004706278506283,
          0.00004804325975163896,
          0.00004902373444044792,
          0.00005000420912925688,
          0.00005098468381806584,
          0.000051965158506874795,
          0.000052945633195683754,
          0.00005392610788449271,
          0.00005490658257330167,
          0.00005588705726211063,
          0.00005686753195091959,
          0.00005784800663972855,
          0.000058828481328537506,
          0.000059808956017346465,
          0.000060789430706155423,
          0.00006176990539496439,
          0.00006275038008377334,
          0.00006373085477258229,
          0.00006471132946139126,
          0.00006569180415020021,
          0.00006667227883900918,
          0.00006765275352781813,
          0.00006863322821662709,
          0.00006961370290543604,
          0.00007059417759424501,
          0.00007157465228305396,
          0.00007255512697186293,
          0.00007353560166067188,
          0.00007451607634948084,
          0.0000754965510382898,
          0.00007647702572709876,
          0.00007745750041590771,
          0.00007843797510471668,
          0.00007941844979352563,
          0.0000803989244823346,
          0.00008137939917114355,
          0.00008235987385995251,
          0.00008334034854876147,
          0.00008432082323757043,
          0.00008530129792637938,
          0.00008628177261518835,
          0.0000872622473039973,
          0.00008824272199280627,
          0.00008922319668161522,
          0.00009020367137042418,
          0.00009118414605923314,
          0.0000921646207480421,
          0.00009314509543685105,
          0.00009412557012566,
          0.00009510604481446897,
          0.00009608651950327792,
          0.00009706699419208689
         ],
         "xaxis": "x",
         "y": [
          0.1075,
          0.1075,
          0.1075,
          0.1075,
          0.1084,
          0.1093,
          0.1105,
          0.1127,
          0.1142,
          0.1153,
          0.1163,
          0.1178,
          0.12,
          0.1208,
          0.1223,
          0.1235,
          0.1246,
          0.1246,
          0.1255,
          0.1263,
          0.1277,
          0.129,
          0.1299,
          0.1297,
          0.1305,
          0.1314,
          0.1315,
          0.131,
          0.1321,
          0.1342,
          0.134,
          0.1345,
          0.1353,
          0.1358,
          0.1356,
          0.1362,
          0.1363,
          0.1362,
          0.1359,
          0.1363,
          0.1365,
          0.1368,
          0.1373,
          0.1384,
          0.1382,
          0.138,
          0.1383,
          0.1383,
          0.1392,
          0.1387,
          0.1384,
          0.1384,
          0.1384,
          0.1388,
          0.1387,
          0.139,
          0.1389,
          0.1384,
          0.1379,
          0.1384,
          0.1378,
          0.1383,
          0.1383,
          0.1375,
          0.1372,
          0.1376,
          0.1373,
          0.1371,
          0.1368,
          0.1365,
          0.1361,
          0.1359,
          0.1357,
          0.135,
          0.1343,
          0.1339,
          0.1327,
          0.1323,
          0.1327,
          0.1326,
          0.1328,
          0.1327,
          0.1324,
          0.1323,
          0.1312,
          0.1309,
          0.1305,
          0.1296,
          0.1289,
          0.1283,
          0.1279,
          0.1273,
          0.1267,
          0.1261,
          0.1256,
          0.1254,
          0.126,
          0.1257,
          0.1256,
          0.1255
         ],
         "yaxis": "y"
        },
        {
         "fillpattern": {
          "shape": ""
         },
         "hovertemplate": "state=4<br>time=%{x}<br>percentage=%{y}<extra></extra>",
         "legendgroup": "4",
         "line": {
          "color": "#00cc96"
         },
         "marker": {
          "symbol": "circle"
         },
         "mode": "lines",
         "name": "4",
         "orientation": "v",
         "showlegend": true,
         "stackgroup": "1",
         "type": "scatter",
         "x": [
          0,
          9.804746888089584e-7,
          0.000001960949377617917,
          0.000002941424066426875,
          0.000003921898755235834,
          0.0000049023734440447925,
          0.00000588284813285375,
          0.000006863322821662709,
          0.000007843797510471668,
          0.000008824272199280626,
          0.000009804746888089585,
          0.000010785221576898544,
          0.0000117656962657075,
          0.00001274617095451646,
          0.000013726645643325418,
          0.000014707120332134377,
          0.000015687595020943335,
          0.000016668069709752294,
          0.000017648544398561253,
          0.00001862901908737021,
          0.00001960949377617917,
          0.00002058996846498813,
          0.000021570443153797087,
          0.000022550917842606046,
          0.000023531392531415,
          0.00002451186722022396,
          0.00002549234190903292,
          0.000026472816597841877,
          0.000027453291286650836,
          0.000028433765975459794,
          0.000029414240664268753,
          0.000030394715353077712,
          0.00003137519004188667,
          0.00003235566473069563,
          0.00003333613941950459,
          0.000034316614108313546,
          0.000035297088797122505,
          0.000036277563485931464,
          0.00003725803817474042,
          0.00003823851286354938,
          0.00003921898755235834,
          0.0000401994622411673,
          0.00004117993692997626,
          0.000042160411618785216,
          0.000043140886307594174,
          0.00004412136099640313,
          0.00004510183568521209,
          0.00004608231037402105,
          0.00004706278506283,
          0.00004804325975163896,
          0.00004902373444044792,
          0.00005000420912925688,
          0.00005098468381806584,
          0.000051965158506874795,
          0.000052945633195683754,
          0.00005392610788449271,
          0.00005490658257330167,
          0.00005588705726211063,
          0.00005686753195091959,
          0.00005784800663972855,
          0.000058828481328537506,
          0.000059808956017346465,
          0.000060789430706155423,
          0.00006176990539496439,
          0.00006275038008377334,
          0.00006373085477258229,
          0.00006471132946139126,
          0.00006569180415020021,
          0.00006667227883900918,
          0.00006765275352781813,
          0.00006863322821662709,
          0.00006961370290543604,
          0.00007059417759424501,
          0.00007157465228305396,
          0.00007255512697186293,
          0.00007353560166067188,
          0.00007451607634948084,
          0.0000754965510382898,
          0.00007647702572709876,
          0.00007745750041590771,
          0.00007843797510471668,
          0.00007941844979352563,
          0.0000803989244823346,
          0.00008137939917114355,
          0.00008235987385995251,
          0.00008334034854876147,
          0.00008432082323757043,
          0.00008530129792637938,
          0.00008628177261518835,
          0.0000872622473039973,
          0.00008824272199280627,
          0.00008922319668161522,
          0.00009020367137042418,
          0.00009118414605923314,
          0.0000921646207480421,
          0.00009314509543685105,
          0.00009412557012566,
          0.00009510604481446897,
          0.00009608651950327792,
          0.00009706699419208689
         ],
         "xaxis": "x",
         "y": [
          0.1096,
          0.1096,
          0.1096,
          0.1096,
          0.1096,
          0.1096,
          0.1096,
          0.1096,
          0.1096,
          0.1096,
          0.1096,
          0.1096,
          0.1096,
          0.1096,
          0.1096,
          0.1096,
          0.1096,
          0.1096,
          0.1096,
          0.1096,
          0.1096,
          0.1096,
          0.1096,
          0.1096,
          0.1095,
          0.1095,
          0.1095,
          0.1095,
          0.1094,
          0.1092,
          0.1092,
          0.1092,
          0.1091,
          0.1091,
          0.1091,
          0.1091,
          0.1091,
          0.1091,
          0.1091,
          0.1091,
          0.109,
          0.109,
          0.109,
          0.109,
          0.1089,
          0.1089,
          0.1089,
          0.1089,
          0.1088,
          0.1088,
          0.1088,
          0.1088,
          0.1088,
          0.1087,
          0.1087,
          0.1087,
          0.1087,
          0.1087,
          0.1087,
          0.1087,
          0.1087,
          0.1087,
          0.1087,
          0.1087,
          0.1087,
          0.1087,
          0.1087,
          0.1087,
          0.1087,
          0.1087,
          0.1087,
          0.1087,
          0.1087,
          0.1086,
          0.1086,
          0.1086,
          0.1086,
          0.1086,
          0.1085,
          0.1085,
          0.1084,
          0.1084,
          0.1084,
          0.1084,
          0.1084,
          0.1084,
          0.1083,
          0.1083,
          0.1083,
          0.1083,
          0.1083,
          0.1083,
          0.1083,
          0.1083,
          0.1083,
          0.1083,
          0.1082,
          0.1082,
          0.1082,
          0.1082
         ],
         "yaxis": "y"
        },
        {
         "fillpattern": {
          "shape": ""
         },
         "hovertemplate": "state=7<br>time=%{x}<br>percentage=%{y}<extra></extra>",
         "legendgroup": "7",
         "line": {
          "color": "#ab63fa"
         },
         "marker": {
          "symbol": "circle"
         },
         "mode": "lines",
         "name": "7",
         "orientation": "v",
         "showlegend": true,
         "stackgroup": "1",
         "type": "scatter",
         "x": [
          0,
          9.804746888089584e-7,
          0.000001960949377617917,
          0.000002941424066426875,
          0.000003921898755235834,
          0.0000049023734440447925,
          0.00000588284813285375,
          0.000006863322821662709,
          0.000007843797510471668,
          0.000008824272199280626,
          0.000009804746888089585,
          0.000010785221576898544,
          0.0000117656962657075,
          0.00001274617095451646,
          0.000013726645643325418,
          0.000014707120332134377,
          0.000015687595020943335,
          0.000016668069709752294,
          0.000017648544398561253,
          0.00001862901908737021,
          0.00001960949377617917,
          0.00002058996846498813,
          0.000021570443153797087,
          0.000022550917842606046,
          0.000023531392531415,
          0.00002451186722022396,
          0.00002549234190903292,
          0.000026472816597841877,
          0.000027453291286650836,
          0.000028433765975459794,
          0.000029414240664268753,
          0.000030394715353077712,
          0.00003137519004188667,
          0.00003235566473069563,
          0.00003333613941950459,
          0.000034316614108313546,
          0.000035297088797122505,
          0.000036277563485931464,
          0.00003725803817474042,
          0.00003823851286354938,
          0.00003921898755235834,
          0.0000401994622411673,
          0.00004117993692997626,
          0.000042160411618785216,
          0.000043140886307594174,
          0.00004412136099640313,
          0.00004510183568521209,
          0.00004608231037402105,
          0.00004706278506283,
          0.00004804325975163896,
          0.00004902373444044792,
          0.00005000420912925688,
          0.00005098468381806584,
          0.000051965158506874795,
          0.000052945633195683754,
          0.00005392610788449271,
          0.00005490658257330167,
          0.00005588705726211063,
          0.00005686753195091959,
          0.00005784800663972855,
          0.000058828481328537506,
          0.000059808956017346465,
          0.000060789430706155423,
          0.00006176990539496439,
          0.00006275038008377334,
          0.00006373085477258229,
          0.00006471132946139126,
          0.00006569180415020021,
          0.00006667227883900918,
          0.00006765275352781813,
          0.00006863322821662709,
          0.00006961370290543604,
          0.00007059417759424501,
          0.00007157465228305396,
          0.00007255512697186293,
          0.00007353560166067188,
          0.00007451607634948084,
          0.0000754965510382898,
          0.00007647702572709876,
          0.00007745750041590771,
          0.00007843797510471668,
          0.00007941844979352563,
          0.0000803989244823346,
          0.00008137939917114355,
          0.00008235987385995251,
          0.00008334034854876147,
          0.00008432082323757043,
          0.00008530129792637938,
          0.00008628177261518835,
          0.0000872622473039973,
          0.00008824272199280627,
          0.00008922319668161522,
          0.00009020367137042418,
          0.00009118414605923314,
          0.0000921646207480421,
          0.00009314509543685105,
          0.00009412557012566,
          0.00009510604481446897,
          0.00009608651950327792,
          0.00009706699419208689
         ],
         "xaxis": "x",
         "y": [
          0.1124,
          0.1124,
          0.1124,
          0.1124,
          0.2245,
          0.2245,
          0.2245,
          0.2245,
          0.2245,
          0.2245,
          0.2245,
          0.2245,
          0.2245,
          0.2245,
          0.2245,
          0.2245,
          0.2245,
          0.2245,
          0.2245,
          0.2245,
          0.2245,
          0.2245,
          0.2245,
          0.2245,
          0.2245,
          0.2245,
          0.2245,
          0.2245,
          0.2245,
          0.2245,
          0.2245,
          0.2245,
          0.2245,
          0.2245,
          0.2245,
          0.2245,
          0.2245,
          0.2245,
          0.2245,
          0.2245,
          0.2245,
          0.2245,
          0.2245,
          0.2245,
          0.2245,
          0.2245,
          0.2245,
          0.2245,
          0.2245,
          0.2245,
          0.2245,
          0.2245,
          0.2245,
          0.2245,
          0.2245,
          0.2245,
          0.2245,
          0.2245,
          0.2245,
          0.2245,
          0.2245,
          0.2245,
          0.2245,
          0.2245,
          0.2244,
          0.2245,
          0.2245,
          0.2245,
          0.2245,
          0.2245,
          0.2245,
          0.2245,
          0.2245,
          0.2245,
          0.2245,
          0.2245,
          0.2245,
          0.2245,
          0.2245,
          0.2245,
          0.2245,
          0.2245,
          0.2245,
          0.2245,
          0.2245,
          0.2245,
          0.2245,
          0.2245,
          0.2245,
          0.2245,
          0.2245,
          0.2245,
          0.2245,
          0.2245,
          0.2245,
          0.2245,
          0.2245,
          0.2245,
          0.2245,
          0.2245
         ],
         "yaxis": "y"
        }
       ],
       "layout": {
        "legend": {
         "title": {
          "text": "state"
         },
         "tracegroupgap": 0
        },
        "margin": {
         "t": 60
        },
        "showlegend": true,
        "template": {
         "data": {
          "bar": [
           {
            "error_x": {
             "color": "#2a3f5f"
            },
            "error_y": {
             "color": "#2a3f5f"
            },
            "marker": {
             "line": {
              "color": "#E5ECF6",
              "width": 0.5
             },
             "pattern": {
              "fillmode": "overlay",
              "size": 10,
              "solidity": 0.2
             }
            },
            "type": "bar"
           }
          ],
          "barpolar": [
           {
            "marker": {
             "line": {
              "color": "#E5ECF6",
              "width": 0.5
             },
             "pattern": {
              "fillmode": "overlay",
              "size": 10,
              "solidity": 0.2
             }
            },
            "type": "barpolar"
           }
          ],
          "carpet": [
           {
            "aaxis": {
             "endlinecolor": "#2a3f5f",
             "gridcolor": "white",
             "linecolor": "white",
             "minorgridcolor": "white",
             "startlinecolor": "#2a3f5f"
            },
            "baxis": {
             "endlinecolor": "#2a3f5f",
             "gridcolor": "white",
             "linecolor": "white",
             "minorgridcolor": "white",
             "startlinecolor": "#2a3f5f"
            },
            "type": "carpet"
           }
          ],
          "choropleth": [
           {
            "colorbar": {
             "outlinewidth": 0,
             "ticks": ""
            },
            "type": "choropleth"
           }
          ],
          "contour": [
           {
            "colorbar": {
             "outlinewidth": 0,
             "ticks": ""
            },
            "colorscale": [
             [
              0,
              "#0d0887"
             ],
             [
              0.1111111111111111,
              "#46039f"
             ],
             [
              0.2222222222222222,
              "#7201a8"
             ],
             [
              0.3333333333333333,
              "#9c179e"
             ],
             [
              0.4444444444444444,
              "#bd3786"
             ],
             [
              0.5555555555555556,
              "#d8576b"
             ],
             [
              0.6666666666666666,
              "#ed7953"
             ],
             [
              0.7777777777777778,
              "#fb9f3a"
             ],
             [
              0.8888888888888888,
              "#fdca26"
             ],
             [
              1,
              "#f0f921"
             ]
            ],
            "type": "contour"
           }
          ],
          "contourcarpet": [
           {
            "colorbar": {
             "outlinewidth": 0,
             "ticks": ""
            },
            "type": "contourcarpet"
           }
          ],
          "heatmap": [
           {
            "colorbar": {
             "outlinewidth": 0,
             "ticks": ""
            },
            "colorscale": [
             [
              0,
              "#0d0887"
             ],
             [
              0.1111111111111111,
              "#46039f"
             ],
             [
              0.2222222222222222,
              "#7201a8"
             ],
             [
              0.3333333333333333,
              "#9c179e"
             ],
             [
              0.4444444444444444,
              "#bd3786"
             ],
             [
              0.5555555555555556,
              "#d8576b"
             ],
             [
              0.6666666666666666,
              "#ed7953"
             ],
             [
              0.7777777777777778,
              "#fb9f3a"
             ],
             [
              0.8888888888888888,
              "#fdca26"
             ],
             [
              1,
              "#f0f921"
             ]
            ],
            "type": "heatmap"
           }
          ],
          "heatmapgl": [
           {
            "colorbar": {
             "outlinewidth": 0,
             "ticks": ""
            },
            "colorscale": [
             [
              0,
              "#0d0887"
             ],
             [
              0.1111111111111111,
              "#46039f"
             ],
             [
              0.2222222222222222,
              "#7201a8"
             ],
             [
              0.3333333333333333,
              "#9c179e"
             ],
             [
              0.4444444444444444,
              "#bd3786"
             ],
             [
              0.5555555555555556,
              "#d8576b"
             ],
             [
              0.6666666666666666,
              "#ed7953"
             ],
             [
              0.7777777777777778,
              "#fb9f3a"
             ],
             [
              0.8888888888888888,
              "#fdca26"
             ],
             [
              1,
              "#f0f921"
             ]
            ],
            "type": "heatmapgl"
           }
          ],
          "histogram": [
           {
            "marker": {
             "pattern": {
              "fillmode": "overlay",
              "size": 10,
              "solidity": 0.2
             }
            },
            "type": "histogram"
           }
          ],
          "histogram2d": [
           {
            "colorbar": {
             "outlinewidth": 0,
             "ticks": ""
            },
            "colorscale": [
             [
              0,
              "#0d0887"
             ],
             [
              0.1111111111111111,
              "#46039f"
             ],
             [
              0.2222222222222222,
              "#7201a8"
             ],
             [
              0.3333333333333333,
              "#9c179e"
             ],
             [
              0.4444444444444444,
              "#bd3786"
             ],
             [
              0.5555555555555556,
              "#d8576b"
             ],
             [
              0.6666666666666666,
              "#ed7953"
             ],
             [
              0.7777777777777778,
              "#fb9f3a"
             ],
             [
              0.8888888888888888,
              "#fdca26"
             ],
             [
              1,
              "#f0f921"
             ]
            ],
            "type": "histogram2d"
           }
          ],
          "histogram2dcontour": [
           {
            "colorbar": {
             "outlinewidth": 0,
             "ticks": ""
            },
            "colorscale": [
             [
              0,
              "#0d0887"
             ],
             [
              0.1111111111111111,
              "#46039f"
             ],
             [
              0.2222222222222222,
              "#7201a8"
             ],
             [
              0.3333333333333333,
              "#9c179e"
             ],
             [
              0.4444444444444444,
              "#bd3786"
             ],
             [
              0.5555555555555556,
              "#d8576b"
             ],
             [
              0.6666666666666666,
              "#ed7953"
             ],
             [
              0.7777777777777778,
              "#fb9f3a"
             ],
             [
              0.8888888888888888,
              "#fdca26"
             ],
             [
              1,
              "#f0f921"
             ]
            ],
            "type": "histogram2dcontour"
           }
          ],
          "mesh3d": [
           {
            "colorbar": {
             "outlinewidth": 0,
             "ticks": ""
            },
            "type": "mesh3d"
           }
          ],
          "parcoords": [
           {
            "line": {
             "colorbar": {
              "outlinewidth": 0,
              "ticks": ""
             }
            },
            "type": "parcoords"
           }
          ],
          "pie": [
           {
            "automargin": true,
            "type": "pie"
           }
          ],
          "scatter": [
           {
            "fillpattern": {
             "fillmode": "overlay",
             "size": 10,
             "solidity": 0.2
            },
            "type": "scatter"
           }
          ],
          "scatter3d": [
           {
            "line": {
             "colorbar": {
              "outlinewidth": 0,
              "ticks": ""
             }
            },
            "marker": {
             "colorbar": {
              "outlinewidth": 0,
              "ticks": ""
             }
            },
            "type": "scatter3d"
           }
          ],
          "scattercarpet": [
           {
            "marker": {
             "colorbar": {
              "outlinewidth": 0,
              "ticks": ""
             }
            },
            "type": "scattercarpet"
           }
          ],
          "scattergeo": [
           {
            "marker": {
             "colorbar": {
              "outlinewidth": 0,
              "ticks": ""
             }
            },
            "type": "scattergeo"
           }
          ],
          "scattergl": [
           {
            "marker": {
             "colorbar": {
              "outlinewidth": 0,
              "ticks": ""
             }
            },
            "type": "scattergl"
           }
          ],
          "scattermapbox": [
           {
            "marker": {
             "colorbar": {
              "outlinewidth": 0,
              "ticks": ""
             }
            },
            "type": "scattermapbox"
           }
          ],
          "scatterpolar": [
           {
            "marker": {
             "colorbar": {
              "outlinewidth": 0,
              "ticks": ""
             }
            },
            "type": "scatterpolar"
           }
          ],
          "scatterpolargl": [
           {
            "marker": {
             "colorbar": {
              "outlinewidth": 0,
              "ticks": ""
             }
            },
            "type": "scatterpolargl"
           }
          ],
          "scatterternary": [
           {
            "marker": {
             "colorbar": {
              "outlinewidth": 0,
              "ticks": ""
             }
            },
            "type": "scatterternary"
           }
          ],
          "surface": [
           {
            "colorbar": {
             "outlinewidth": 0,
             "ticks": ""
            },
            "colorscale": [
             [
              0,
              "#0d0887"
             ],
             [
              0.1111111111111111,
              "#46039f"
             ],
             [
              0.2222222222222222,
              "#7201a8"
             ],
             [
              0.3333333333333333,
              "#9c179e"
             ],
             [
              0.4444444444444444,
              "#bd3786"
             ],
             [
              0.5555555555555556,
              "#d8576b"
             ],
             [
              0.6666666666666666,
              "#ed7953"
             ],
             [
              0.7777777777777778,
              "#fb9f3a"
             ],
             [
              0.8888888888888888,
              "#fdca26"
             ],
             [
              1,
              "#f0f921"
             ]
            ],
            "type": "surface"
           }
          ],
          "table": [
           {
            "cells": {
             "fill": {
              "color": "#EBF0F8"
             },
             "line": {
              "color": "white"
             }
            },
            "header": {
             "fill": {
              "color": "#C8D4E3"
             },
             "line": {
              "color": "white"
             }
            },
            "type": "table"
           }
          ]
         },
         "layout": {
          "annotationdefaults": {
           "arrowcolor": "#2a3f5f",
           "arrowhead": 0,
           "arrowwidth": 1
          },
          "autotypenumbers": "strict",
          "coloraxis": {
           "colorbar": {
            "outlinewidth": 0,
            "ticks": ""
           }
          },
          "colorscale": {
           "diverging": [
            [
             0,
             "#8e0152"
            ],
            [
             0.1,
             "#c51b7d"
            ],
            [
             0.2,
             "#de77ae"
            ],
            [
             0.3,
             "#f1b6da"
            ],
            [
             0.4,
             "#fde0ef"
            ],
            [
             0.5,
             "#f7f7f7"
            ],
            [
             0.6,
             "#e6f5d0"
            ],
            [
             0.7,
             "#b8e186"
            ],
            [
             0.8,
             "#7fbc41"
            ],
            [
             0.9,
             "#4d9221"
            ],
            [
             1,
             "#276419"
            ]
           ],
           "sequential": [
            [
             0,
             "#0d0887"
            ],
            [
             0.1111111111111111,
             "#46039f"
            ],
            [
             0.2222222222222222,
             "#7201a8"
            ],
            [
             0.3333333333333333,
             "#9c179e"
            ],
            [
             0.4444444444444444,
             "#bd3786"
            ],
            [
             0.5555555555555556,
             "#d8576b"
            ],
            [
             0.6666666666666666,
             "#ed7953"
            ],
            [
             0.7777777777777778,
             "#fb9f3a"
            ],
            [
             0.8888888888888888,
             "#fdca26"
            ],
            [
             1,
             "#f0f921"
            ]
           ],
           "sequentialminus": [
            [
             0,
             "#0d0887"
            ],
            [
             0.1111111111111111,
             "#46039f"
            ],
            [
             0.2222222222222222,
             "#7201a8"
            ],
            [
             0.3333333333333333,
             "#9c179e"
            ],
            [
             0.4444444444444444,
             "#bd3786"
            ],
            [
             0.5555555555555556,
             "#d8576b"
            ],
            [
             0.6666666666666666,
             "#ed7953"
            ],
            [
             0.7777777777777778,
             "#fb9f3a"
            ],
            [
             0.8888888888888888,
             "#fdca26"
            ],
            [
             1,
             "#f0f921"
            ]
           ]
          },
          "colorway": [
           "#636efa",
           "#EF553B",
           "#00cc96",
           "#ab63fa",
           "#FFA15A",
           "#19d3f3",
           "#FF6692",
           "#B6E880",
           "#FF97FF",
           "#FECB52"
          ],
          "font": {
           "color": "#2a3f5f"
          },
          "geo": {
           "bgcolor": "white",
           "lakecolor": "white",
           "landcolor": "#E5ECF6",
           "showlakes": true,
           "showland": true,
           "subunitcolor": "white"
          },
          "hoverlabel": {
           "align": "left"
          },
          "hovermode": "closest",
          "mapbox": {
           "style": "light"
          },
          "paper_bgcolor": "white",
          "plot_bgcolor": "#E5ECF6",
          "polar": {
           "angularaxis": {
            "gridcolor": "white",
            "linecolor": "white",
            "ticks": ""
           },
           "bgcolor": "#E5ECF6",
           "radialaxis": {
            "gridcolor": "white",
            "linecolor": "white",
            "ticks": ""
           }
          },
          "scene": {
           "xaxis": {
            "backgroundcolor": "#E5ECF6",
            "gridcolor": "white",
            "gridwidth": 2,
            "linecolor": "white",
            "showbackground": true,
            "ticks": "",
            "zerolinecolor": "white"
           },
           "yaxis": {
            "backgroundcolor": "#E5ECF6",
            "gridcolor": "white",
            "gridwidth": 2,
            "linecolor": "white",
            "showbackground": true,
            "ticks": "",
            "zerolinecolor": "white"
           },
           "zaxis": {
            "backgroundcolor": "#E5ECF6",
            "gridcolor": "white",
            "gridwidth": 2,
            "linecolor": "white",
            "showbackground": true,
            "ticks": "",
            "zerolinecolor": "white"
           }
          },
          "shapedefaults": {
           "line": {
            "color": "#2a3f5f"
           }
          },
          "ternary": {
           "aaxis": {
            "gridcolor": "white",
            "linecolor": "white",
            "ticks": ""
           },
           "baxis": {
            "gridcolor": "white",
            "linecolor": "white",
            "ticks": ""
           },
           "bgcolor": "#E5ECF6",
           "caxis": {
            "gridcolor": "white",
            "linecolor": "white",
            "ticks": ""
           }
          },
          "title": {
           "x": 0.05
          },
          "xaxis": {
           "automargin": true,
           "gridcolor": "white",
           "linecolor": "white",
           "ticks": "",
           "title": {
            "standoff": 15
           },
           "zerolinecolor": "white",
           "zerolinewidth": 2
          },
          "yaxis": {
           "automargin": true,
           "gridcolor": "white",
           "linecolor": "white",
           "ticks": "",
           "title": {
            "standoff": 15
           },
           "zerolinecolor": "white",
           "zerolinewidth": 2
          }
         }
        },
        "xaxis": {
         "anchor": "y",
         "domain": [
          0,
          1
         ],
         "range": [
          0,
          0.00009804746888089584
         ],
         "title": {
          "text": "time"
         }
        },
        "yaxis": {
         "anchor": "x",
         "domain": [
          0,
          1
         ],
         "range": [
          0,
          1
         ],
         "title": {
          "text": "percentage"
         }
        }
       }
      }
     },
     "metadata": {},
     "output_type": "display_data"
    }
   ],
   "source": [
    "kmc_boltz.plot_select_states_stacked(\n",
    "    states_to_plot=[0, 7, 2, 4],\n",
    "    resolution=None, \n",
    "    max_time=None, \n",
    "    title=None, \n",
    "    save=True, \n",
    "    save_name=\"props.png\") # -1 shows all states"
   ]
  },
  {
   "cell_type": "code",
   "execution_count": 16,
   "metadata": {},
   "outputs": [
    {
     "name": "stdout",
     "output_type": "stream",
     "text": [
      "[0, 1, 2, 3, 6, 4, 5, 8, 7, 9]\n",
      "[1594, 4472, 356, 176, 962, 15, 218, 0, 2207, 0]\n"
     ]
    },
    {
     "data": {
      "image/png": "[encoded data removed]",
      "text/plain": [
       "<Figure size 432x288 with 1 Axes>"
      ]
     },
     "metadata": {},
     "output_type": "display_data"
    }
   ],
   "source": [
    "time_slice = 0\n",
    "pos = graph_trajectories_static(\n",
    "    trajectories=trajectories, energies=energies_mat, time=0.001, ret_pos=True\n",
    ")"
   ]
  },
  {
   "cell_type": "code",
   "execution_count": null,
   "metadata": {},
   "outputs": [],
   "source": []
  }
 ],
 "metadata": {
  "kernelspec": {
   "display_name": "bondnet",
   "language": "python",
   "name": "python3"
  },
  "language_info": {
   "codemirror_mode": {
    "name": "ipython",
    "version": 3
   },
   "file_extension": ".py",
   "mimetype": "text/x-python",
   "name": "python",
   "nbconvert_exporter": "python",
   "pygments_lexer": "ipython3",
   "version": "3.7.0"
  },
  "orig_nbformat": 4,
  "vscode": {
   "interpreter": {
    "hash": "c205a9eb4435b0aa27aaf0e9c4340d2b9512e0cc8b49dbd290219ad3711c312f"
   }
  }
 },
 "nbformat": 4,
 "nbformat_minor": 2
}
